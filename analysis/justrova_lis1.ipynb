{
 "cells": [
  {
   "cell_type": "code",
   "execution_count": 115,
   "metadata": {
    "collapsed": false,
    "deletable": true,
    "editable": true
   },
   "outputs": [],
   "source": [
    "%matplotlib inline\n",
    "import matplotlib.pyplot as plt\n",
    "import numpy as np\n",
    "import pandas as pd\n",
    "import scipy.optimize\n",
    "import scipy.stats"
   ]
  },
  {
   "cell_type": "code",
   "execution_count": 116,
   "metadata": {
    "collapsed": true,
    "deletable": true,
    "editable": true
   },
   "outputs": [],
   "source": [
    "x, y = np.genfromtxt('sada_422944_50ks.txt', unpack=True) #moje data"
   ]
  },
  {
   "cell_type": "code",
   "execution_count": 117,
   "metadata": {
    "collapsed": false,
    "deletable": true,
    "editable": true
   },
   "outputs": [
    {
     "data": {
      "text/plain": [
       "[<matplotlib.lines.Line2D at 0xbb835c0>]"
      ]
     },
     "execution_count": 117,
     "metadata": {},
     "output_type": "execute_result"
    },
    {
     "data": {
      "image/png": "[encoded data removed]",
      "text/plain": [
       "<matplotlib.figure.Figure at 0xa5c3278>"
      ]
     },
     "metadata": {},
     "output_type": "display_data"
    }
   ],
   "source": [
    "plt.plot(x, y, 'x')"
   ]
  },
  {
   "cell_type": "code",
   "execution_count": 118,
   "metadata": {
    "collapsed": false,
    "deletable": true,
    "editable": true,
    "scrolled": true
   },
   "outputs": [
    {
     "data": {
      "text/plain": [
       "array([[  1.00000000e+00,   9.41764534e-01],\n",
       "       [  1.00000000e+00,   7.86627861e-01],\n",
       "       [  1.00000000e+00,   6.57046820e-01],\n",
       "       [  1.00000000e+00,   5.48811636e-01],\n",
       "       [  1.00000000e+00,   4.58406011e-01],\n",
       "       [  1.00000000e+00,   3.82892886e-01],\n",
       "       [  1.00000000e+00,   3.19819022e-01],\n",
       "       [  1.00000000e+00,   2.67135302e-01],\n",
       "       [  1.00000000e+00,   2.23130160e-01],\n",
       "       [  1.00000000e+00,   1.86373976e-01],\n",
       "       [  1.00000000e+00,   1.55672630e-01],\n",
       "       [  1.00000000e+00,   1.30028711e-01],\n",
       "       [  1.00000000e+00,   1.08609109e-01],\n",
       "       [  1.00000000e+00,   9.07179533e-02],\n",
       "       [  1.00000000e+00,   7.57740040e-02],\n",
       "       [  1.00000000e+00,   6.32917684e-02],\n",
       "       [  1.00000000e+00,   5.28657287e-02],\n",
       "       [  1.00000000e+00,   4.41571684e-02],\n",
       "       [  1.00000000e+00,   3.68831674e-02],\n",
       "       [  1.00000000e+00,   3.08074110e-02],\n",
       "       [  1.00000000e+00,   2.57325127e-02],\n",
       "       [  1.00000000e+00,   2.14936013e-02],\n",
       "       [  1.00000000e+00,   1.79529649e-02],\n",
       "       [  1.00000000e+00,   1.49955768e-02],\n",
       "       [  1.00000000e+00,   1.25253586e-02],\n",
       "       [  1.00000000e+00,   1.04620589e-02],\n",
       "       [  1.00000000e+00,   8.73864619e-03],\n",
       "       [  1.00000000e+00,   7.29913085e-03],\n",
       "       [  1.00000000e+00,   6.09674657e-03],\n",
       "       [  1.00000000e+00,   5.09243079e-03],\n",
       "       [  1.00000000e+00,   4.25355574e-03],\n",
       "       [  1.00000000e+00,   3.55286841e-03],\n",
       "       [  1.00000000e+00,   2.96760514e-03],\n",
       "       [  1.00000000e+00,   2.47875218e-03],\n",
       "       [  1.00000000e+00,   2.07042785e-03],\n",
       "       [  1.00000000e+00,   1.72936671e-03],\n",
       "       [  1.00000000e+00,   1.44448850e-03],\n",
       "       [  1.00000000e+00,   1.20653821e-03],\n",
       "       [  1.00000000e+00,   1.00778543e-03],\n",
       "       [  1.00000000e+00,   8.41773148e-04],\n",
       "       [  1.00000000e+00,   7.03108036e-04],\n",
       "       [  1.00000000e+00,   5.87285198e-04],\n",
       "       [  1.00000000e+00,   4.90541831e-04],\n",
       "       [  1.00000000e+00,   4.09734979e-04],\n",
       "       [  1.00000000e+00,   3.42239423e-04],\n",
       "       [  1.00000000e+00,   2.85862395e-04],\n",
       "       [  1.00000000e+00,   2.38772343e-04],\n",
       "       [  1.00000000e+00,   1.99439425e-04],\n",
       "       [  1.00000000e+00,   1.66585811e-04],\n",
       "       [  1.00000000e+00,   1.39144166e-04]])"
      ]
     },
     "execution_count": 118,
     "metadata": {},
     "output_type": "execute_result"
    }
   ],
   "source": [
    "mat_M=np.array([np.ones(len(x)), np.exp(-x)]).T #modelova matice - jak by to melo vypadat\n",
    "mat_M"
   ]
  },
  {
   "cell_type": "code",
   "execution_count": 119,
   "metadata": {
    "collapsed": true,
    "deletable": true,
    "editable": true
   },
   "outputs": [],
   "source": [
    "hessian=mat_M.T.dot(mat_M)"
   ]
  },
  {
   "cell_type": "code",
   "execution_count": 120,
   "metadata": {
    "collapsed": false,
    "deletable": true,
    "editable": true
   },
   "outputs": [
    {
     "data": {
      "text/plain": [
       "array([[ 50.        ,   5.71632076],\n",
       "       [  5.71632076,   2.93367837]])"
      ]
     },
     "execution_count": 120,
     "metadata": {},
     "output_type": "execute_result"
    }
   ],
   "source": [
    "hessian"
   ]
  },
  {
   "cell_type": "code",
   "execution_count": 121,
   "metadata": {
    "collapsed": false,
    "deletable": true,
    "editable": true
   },
   "outputs": [
    {
     "data": {
      "text/plain": [
       "array([[ 0.02573231, -0.05013982],\n",
       "       [-0.05013982,  0.43856727]])"
      ]
     },
     "execution_count": 121,
     "metadata": {},
     "output_type": "execute_result"
    }
   ],
   "source": [
    "covar=np.linalg.inv(hessian) #kovariancni matice\n",
    "covar"
   ]
  },
  {
   "cell_type": "code",
   "execution_count": 122,
   "metadata": {
    "collapsed": false,
    "deletable": true,
    "editable": true
   },
   "outputs": [
    {
     "data": {
      "text/plain": [
       "array([   6.61518731,  112.35209871])"
      ]
     },
     "execution_count": 122,
     "metadata": {},
     "output_type": "execute_result"
    }
   ],
   "source": [
    "pars1=covar.dot(mat_M.T.dot(y))\n",
    "pars1"
   ]
  },
  {
   "cell_type": "code",
   "execution_count": 123,
   "metadata": {
    "collapsed": true,
    "deletable": true,
    "editable": true
   },
   "outputs": [],
   "source": [
    "ymodel=mat_M.dot(pars1) #modelova matice - teoreticky prubeh mereni\n",
    "sigma=6"
   ]
  },
  {
   "cell_type": "code",
   "execution_count": 124,
   "metadata": {
    "collapsed": true
   },
   "outputs": [],
   "source": [
    "def f(x, A, l):\n",
    "    return A*np.exp(-x*l) #mereni casove zavislosti signalu detektoru castic y=A exp(-tl)"
   ]
  },
  {
   "cell_type": "code",
   "execution_count": 125,
   "metadata": {
    "collapsed": true
   },
   "outputs": [],
   "source": [
    "popt, pcov = scipy.optimize.curve_fit(f, x, y)"
   ]
  },
  {
   "cell_type": "code",
   "execution_count": 126,
   "metadata": {
    "collapsed": false
   },
   "outputs": [
    {
     "data": {
      "text/plain": [
       "array([ 100.29069189,    0.58725421])"
      ]
     },
     "execution_count": 126,
     "metadata": {},
     "output_type": "execute_result"
    }
   ],
   "source": [
    "popt"
   ]
  },
  {
   "cell_type": "code",
   "execution_count": 127,
   "metadata": {
    "collapsed": false
   },
   "outputs": [
    {
     "data": {
      "text/plain": [
       "array([[  3.55329239e+00,   2.08663077e-02],\n",
       "       [  2.08663077e-02,   2.52386649e-04]])"
      ]
     },
     "execution_count": 127,
     "metadata": {},
     "output_type": "execute_result"
    }
   ],
   "source": [
    "pcov"
   ]
  },
  {
   "cell_type": "code",
   "execution_count": 128,
   "metadata": {
    "collapsed": false,
    "deletable": true,
    "editable": true
   },
   "outputs": [
    {
     "data": {
      "text/plain": [
       "<matplotlib.legend.Legend at 0xc20dfd0>"
      ]
     },
     "execution_count": 128,
     "metadata": {},
     "output_type": "execute_result"
    },
    {
     "data": {
      "image/png": "[encoded data removed]",
      "text/plain": [
       "<matplotlib.figure.Figure at 0xbd92cf8>"
      ]
     },
     "metadata": {},
     "output_type": "display_data"
    }
   ],
   "source": [
    "plt.plot(x, y, 'x', label='merena data')\n",
    "plt.plot(x, ymodel, label=\"simulovany prubeh\")\n",
    "plt.plot(x, popt[0]*np.exp(-x*popt[1]), label='fitovany prubeh')\n",
    "plt.xlabel('x')\n",
    "plt.legend(loc=0)"
   ]
  },
  {
   "cell_type": "code",
   "execution_count": 129,
   "metadata": {
    "collapsed": false,
    "deletable": true,
    "editable": true
   },
   "outputs": [
    {
     "data": {
      "text/plain": [
       "[<matplotlib.lines.Line2D at 0xc27efd0>]"
      ]
     },
     "execution_count": 129,
     "metadata": {},
     "output_type": "execute_result"
    },
    {
     "data": {
      "image/png": "[encoded data removed]",
      "text/plain": [
       "<matplotlib.figure.Figure at 0xbd67ef0>"
      ]
     },
     "metadata": {},
     "output_type": "display_data"
    }
   ],
   "source": [
    "plt.plot(x, ymodel-popt[0]*np.exp(-x*popt[1])) #odchylka praveho prubehu od simulace"
   ]
  },
  {
   "cell_type": "code",
   "execution_count": 130,
   "metadata": {
    "collapsed": false,
    "deletable": true,
    "editable": true
   },
   "outputs": [
    {
     "name": "stdout",
     "output_type": "stream",
     "text": [
      "reduk. chi^2: 36.63 vs. skutecna sigma^2: 36.00\n"
     ]
    }
   ],
   "source": [
    "#suma rezidui\n",
    "s0=sum((popt[0]*np.exp(-x*popt[1])-ymodel)**2)\n",
    "rs0=s0/(len(x)-2) #2 urcovane parametry\n",
    "print(\"reduk. chi^2: %.2f vs. skutecna sigma^2: %.2f\"%(rs0,sigma**2))"
   ]
  },
  {
   "cell_type": "code",
   "execution_count": 131,
   "metadata": {
    "collapsed": false,
    "deletable": true,
    "editable": true
   },
   "outputs": [
    {
     "name": "stdout",
     "output_type": "stream",
     "text": [
      "korelacni matice parametru\n"
     ]
    },
    {
     "data": {
      "text/plain": [
       "array([[ 1.        , -0.47198189],\n",
       "       [-0.47198189,  1.        ]])"
      ]
     },
     "execution_count": 131,
     "metadata": {},
     "output_type": "execute_result"
    }
   ],
   "source": [
    "errs=np.sqrt(covar.diagonal())\n",
    "corel=covar/errs.reshape(1,2)/errs.reshape(2,1)\n",
    "print(\"korelacni matice parametru\")\n",
    "corel"
   ]
  },
  {
   "cell_type": "code",
   "execution_count": 132,
   "metadata": {
    "collapsed": false
   },
   "outputs": [
    {
     "name": "stdout",
     "output_type": "stream",
     "text": [
      "nejistoty parametru:[ 0.97084193  4.00799597]\n"
     ]
    }
   ],
   "source": [
    "errs*=np.sqrt(rs0)\n",
    "print(\"nejistoty parametru:\"+str(errs))"
   ]
  },
  {
   "cell_type": "code",
   "execution_count": 133,
   "metadata": {
    "collapsed": false,
    "deletable": true,
    "editable": true
   },
   "outputs": [
    {
     "data": {
      "text/plain": [
       "<matplotlib.legend.Legend at 0xbd76fd0>"
      ]
     },
     "execution_count": 133,
     "metadata": {},
     "output_type": "execute_result"
    },
    {
     "data": {
      "image/png": "[encoded data removed]",
      "text/plain": [
       "<matplotlib.figure.Figure at 0xc2489b0>"
      ]
     },
     "metadata": {},
     "output_type": "display_data"
    }
   ],
   "source": [
    "xbins=np.r_[-15:15:2]\n",
    "ok1=plt.hist(popt[0]*np.exp(-x*popt[1])-ymodel,xbins,alpha=0.5,label=\"konst.sigma\")\n",
    "plt.legend(loc=0)"
   ]
  },
  {
   "cell_type": "code",
   "execution_count": null,
   "metadata": {
    "collapsed": true,
    "deletable": true,
    "editable": true
   },
   "outputs": [],
   "source": []
  },
  {
   "cell_type": "code",
   "execution_count": 134,
   "metadata": {
    "collapsed": false,
    "deletable": true,
    "editable": true
   },
   "outputs": [
    {
     "data": {
      "text/plain": [
       "(0.1808930034358612, -0.64787716062424394)"
      ]
     },
     "execution_count": 134,
     "metadata": {},
     "output_type": "execute_result"
    }
   ],
   "source": [
    "def moments(meas):\n",
    "    cmeas = meas-meas.mean()\n",
    "    return (cmeas**2).mean(), (cmeas**3).mean(),(cmeas**4).mean()\n",
    "moms1 = moments(popt[0]*np.exp(-x*popt[1])-ymodel)\n",
    "skew1,curt1 = moms1[1]/moms1[0]**1.5,moms1[2]/moms1[0]**2-3\n",
    "skew1,curt1"
   ]
  },
  {
   "cell_type": "code",
   "execution_count": null,
   "metadata": {
    "collapsed": true
   },
   "outputs": [],
   "source": []
  },
  {
   "cell_type": "code",
   "execution_count": 137,
   "metadata": {
    "collapsed": false
   },
   "outputs": [
    {
     "data": {
      "text/plain": [
       "1.5872277812700748"
      ]
     },
     "execution_count": 137,
     "metadata": {},
     "output_type": "execute_result"
    }
   ],
   "source": [
    "scipy.stats.kurtosis(popt[0]*np.exp(-x*popt[1])) #?! jine vysledky!!!"
   ]
  },
  {
   "cell_type": "code",
   "execution_count": 138,
   "metadata": {
    "collapsed": false
   },
   "outputs": [
    {
     "data": {
      "text/plain": [
       "1.59206267752663"
      ]
     },
     "execution_count": 138,
     "metadata": {},
     "output_type": "execute_result"
    }
   ],
   "source": [
    "scipy.stats.skew(popt[0]*np.exp(-x*popt[1])) #?! jine vysledky!!!"
   ]
  },
  {
   "cell_type": "code",
   "execution_count": null,
   "metadata": {
    "collapsed": true
   },
   "outputs": [],
   "source": []
  }
 ],
 "metadata": {
  "kernelspec": {
   "display_name": "Python 3",
   "language": "python",
   "name": "python3"
  },
  "language_info": {
   "codemirror_mode": {
    "name": "ipython",
    "version": 3
   },
   "file_extension": ".py",
   "mimetype": "text/x-python",
   "name": "python",
   "nbconvert_exporter": "python",
   "pygments_lexer": "ipython3",
   "version": "3.5.3"
  }
 },
 "nbformat": 4,
 "nbformat_minor": 2
}
