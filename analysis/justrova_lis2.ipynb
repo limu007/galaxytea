{
 "cells": [
  {
   "cell_type": "code",
   "execution_count": 1,
   "metadata": {
    "collapsed": false,
    "deletable": true,
    "editable": true
   },
   "outputs": [],
   "source": [
    "%matplotlib inline\n",
    "import matplotlib.pyplot as plt\n",
    "import numpy as np\n",
    "import pandas as pd\n",
    "import scipy.optimize\n",
    "import scipy.stats"
   ]
  },
  {
   "cell_type": "code",
   "execution_count": 2,
   "metadata": {
    "collapsed": false,
    "deletable": true,
    "editable": true
   },
   "outputs": [],
   "source": [
    "mereni = x,y = np.loadtxt('sada_422944_50ks-bez0.txt', unpack = True) #unpack-ulozeni v x, y; rucni odstr. nulovych hodnot"
   ]
  },
  {
   "cell_type": "code",
   "execution_count": 3,
   "metadata": {
    "collapsed": false,
    "deletable": true,
    "editable": true
   },
   "outputs": [
    {
     "data": {
      "text/plain": [
       "[<matplotlib.lines.Line2D at 0x98864a8>]"
      ]
     },
     "execution_count": 3,
     "metadata": {},
     "output_type": "execute_result"
    },
    {
     "data": {
      "image/png": "[encoded data removed]",
      "text/plain": [
       "<matplotlib.figure.Figure at 0x47288d0>"
      ]
     },
     "metadata": {},
     "output_type": "display_data"
    }
   ],
   "source": [
    "plt.plot(x, y, 'x') #obyc. vykresleni dat"
   ]
  },
  {
   "cell_type": "code",
   "execution_count": 4,
   "metadata": {
    "collapsed": false
   },
   "outputs": [],
   "source": [
    "lny = np.log(y) #hlaska = pro funkci vyhodit nuly (log v nule nedefinovan) - vyhozeno rucne"
   ]
  },
  {
   "cell_type": "code",
   "execution_count": 5,
   "metadata": {
    "collapsed": false
   },
   "outputs": [],
   "source": [
    "#pole = [] #neni potreba, vyreseno rucne\n",
    "#for x in mereni: \n",
    "    #if x[1] !=0:\n",
    "        #pole.append(x)\n",
    "#pole=np.array(pole)\n",
    "#x,y=data=np.transpose(pole) "
   ]
  },
  {
   "cell_type": "code",
   "execution_count": 6,
   "metadata": {
    "collapsed": false,
    "deletable": true,
    "editable": true,
    "scrolled": true
   },
   "outputs": [
    {
     "data": {
      "text/plain": [
       "array([[ 1.  , -0.06],\n",
       "       [ 1.  , -0.24],\n",
       "       [ 1.  , -0.42],\n",
       "       [ 1.  , -0.6 ],\n",
       "       [ 1.  , -0.78],\n",
       "       [ 1.  , -0.96],\n",
       "       [ 1.  , -1.14],\n",
       "       [ 1.  , -1.32],\n",
       "       [ 1.  , -1.5 ],\n",
       "       [ 1.  , -1.68],\n",
       "       [ 1.  , -1.86],\n",
       "       [ 1.  , -2.04],\n",
       "       [ 1.  , -2.22],\n",
       "       [ 1.  , -2.4 ],\n",
       "       [ 1.  , -2.58],\n",
       "       [ 1.  , -2.76],\n",
       "       [ 1.  , -2.94],\n",
       "       [ 1.  , -3.12],\n",
       "       [ 1.  , -3.3 ],\n",
       "       [ 1.  , -3.48],\n",
       "       [ 1.  , -3.66],\n",
       "       [ 1.  , -3.84],\n",
       "       [ 1.  , -4.02],\n",
       "       [ 1.  , -4.2 ],\n",
       "       [ 1.  , -4.38],\n",
       "       [ 1.  , -4.56],\n",
       "       [ 1.  , -4.74],\n",
       "       [ 1.  , -4.92],\n",
       "       [ 1.  , -5.1 ],\n",
       "       [ 1.  , -5.28],\n",
       "       [ 1.  , -5.46],\n",
       "       [ 1.  , -5.64],\n",
       "       [ 1.  , -5.82],\n",
       "       [ 1.  , -6.  ],\n",
       "       [ 1.  , -6.18],\n",
       "       [ 1.  , -6.36],\n",
       "       [ 1.  , -6.72],\n",
       "       [ 1.  , -6.9 ],\n",
       "       [ 1.  , -7.08],\n",
       "       [ 1.  , -7.62],\n",
       "       [ 1.  , -7.8 ],\n",
       "       [ 1.  , -8.16],\n",
       "       [ 1.  , -8.52]])"
      ]
     },
     "execution_count": 6,
     "metadata": {},
     "output_type": "execute_result"
    }
   ],
   "source": [
    "mat_M = np.array([np.ones(len(x)), (-x)]).T #model. matice - jak by to melo vypadat / opraveno na zlog. / vyhneme se exp.\n",
    "mat_M"
   ]
  },
  {
   "cell_type": "code",
   "execution_count": 7,
   "metadata": {
    "collapsed": true,
    "deletable": true,
    "editable": true
   },
   "outputs": [],
   "source": [
    "hessian = mat_M.T.dot(mat_M)"
   ]
  },
  {
   "cell_type": "code",
   "execution_count": 8,
   "metadata": {
    "collapsed": false,
    "deletable": true,
    "editable": true
   },
   "outputs": [
    {
     "data": {
      "text/plain": [
       "array([[  43.    , -168.36  ],\n",
       "       [-168.36  ,  897.7968]])"
      ]
     },
     "execution_count": 8,
     "metadata": {},
     "output_type": "execute_result"
    }
   ],
   "source": [
    "hessian"
   ]
  },
  {
   "cell_type": "code",
   "execution_count": 9,
   "metadata": {
    "collapsed": false,
    "deletable": true,
    "editable": true
   },
   "outputs": [
    {
     "data": {
      "text/plain": [
       "array([[ 0.08750309,  0.01640908],\n",
       "       [ 0.01640908,  0.00419096]])"
      ]
     },
     "execution_count": 9,
     "metadata": {},
     "output_type": "execute_result"
    }
   ],
   "source": [
    "covar = np.linalg.inv(hessian) #kovariancni matice\n",
    "covar"
   ]
  },
  {
   "cell_type": "code",
   "execution_count": 10,
   "metadata": {
    "collapsed": false,
    "deletable": true,
    "editable": true
   },
   "outputs": [
    {
     "data": {
      "text/plain": [
       "array([ 4.40190005,  0.49893267])"
      ]
     },
     "execution_count": 10,
     "metadata": {},
     "output_type": "execute_result"
    }
   ],
   "source": [
    "pars1 = covar.dot(mat_M.T.dot(lny))\n",
    "pars1"
   ]
  },
  {
   "cell_type": "code",
   "execution_count": 11,
   "metadata": {
    "collapsed": false
   },
   "outputs": [
    {
     "data": {
      "text/plain": [
       "(81.605776568261547, 0.49893267232038507)"
      ]
     },
     "execution_count": 11,
     "metadata": {},
     "output_type": "execute_result"
    }
   ],
   "source": [
    "A = np.exp(pars1[0])\n",
    "l = pars1[1]\n",
    "A, l #spocitane hodnoty parametru"
   ]
  },
  {
   "cell_type": "code",
   "execution_count": 12,
   "metadata": {
    "collapsed": false,
    "deletable": true,
    "editable": true
   },
   "outputs": [],
   "source": [
    "ymodel = mat_M.dot(pars1) #modelova matice - teoreticky prubeh mereni"
   ]
  },
  {
   "cell_type": "code",
   "execution_count": 13,
   "metadata": {
    "collapsed": true,
    "deletable": true,
    "editable": true
   },
   "outputs": [],
   "source": [
    "def f(x, A, l):\n",
    "    return (A)*np.exp(-x*l) #mereni casove zavislosti signalu detektoru castic y=A exp(-tl)"
   ]
  },
  {
   "cell_type": "code",
   "execution_count": 14,
   "metadata": {
    "collapsed": false,
    "deletable": true,
    "editable": true
   },
   "outputs": [],
   "source": [
    "popt, pcov = scipy.optimize.curve_fit(f, x, y)"
   ]
  },
  {
   "cell_type": "code",
   "execution_count": 15,
   "metadata": {
    "collapsed": false,
    "deletable": true,
    "editable": true
   },
   "outputs": [
    {
     "data": {
      "text/plain": [
       "array([ 100.14894016,    0.58528236])"
      ]
     },
     "execution_count": 15,
     "metadata": {},
     "output_type": "execute_result"
    }
   ],
   "source": [
    "popt"
   ]
  },
  {
   "cell_type": "code",
   "execution_count": 16,
   "metadata": {
    "collapsed": false,
    "deletable": true,
    "editable": true
   },
   "outputs": [
    {
     "data": {
      "text/plain": [
       "array([[  4.06385894e+00,   2.39649465e-02],\n",
       "       [  2.39649465e-02,   2.89755192e-04]])"
      ]
     },
     "execution_count": 16,
     "metadata": {},
     "output_type": "execute_result"
    }
   ],
   "source": [
    "pcov"
   ]
  },
  {
   "cell_type": "code",
   "execution_count": 17,
   "metadata": {
    "collapsed": false,
    "deletable": true,
    "editable": true
   },
   "outputs": [
    {
     "data": {
      "text/plain": [
       "<matplotlib.legend.Legend at 0x9efabe0>"
      ]
     },
     "execution_count": 17,
     "metadata": {},
     "output_type": "execute_result"
    },
    {
     "data": {
      "image/png": "[encoded data removed]",
      "text/plain": [
       "<matplotlib.figure.Figure at 0x97f8208>"
      ]
     },
     "metadata": {},
     "output_type": "display_data"
    }
   ],
   "source": [
    "plt.plot(x, y, 'x', label='merene hodnoty')\n",
    "#plt.plot(x, ymodel, label=\"simulovany prubeh\") #spatne nadefinovano, haze linear. zavislost\n",
    "plt.plot(x, A*np.exp(-x*l), label='fitovany prubeh')\n",
    "plt.xlabel('x')\n",
    "plt.ylabel('signal')\n",
    "plt.legend(loc=0)"
   ]
  },
  {
   "cell_type": "code",
   "execution_count": 18,
   "metadata": {
    "collapsed": false,
    "deletable": true,
    "editable": true
   },
   "outputs": [],
   "source": [
    "#plt.plot(x, ymodel-popt[0]*np.exp(-x*popt[1])) #odchylka praveho prubehu od simulace-hlupne kvuli spatne definici"
   ]
  },
  {
   "cell_type": "code",
   "execution_count": 19,
   "metadata": {
    "collapsed": false,
    "deletable": true,
    "editable": true
   },
   "outputs": [],
   "source": [
    "#suma rezidui\n",
    "s0=sum((lny-(pars1[0]-x*pars1[1]))**2)\n",
    "rs0=s0/(len(x)-2) #2 urcovane parametry\n",
    "#print(\"reduk. chi^2: %.2f vs. skutecna sigma^2: %.2f\"%(rs0,sigma**2)) nemam uz sigmu"
   ]
  },
  {
   "cell_type": "code",
   "execution_count": 20,
   "metadata": {
    "collapsed": false,
    "deletable": true,
    "editable": true
   },
   "outputs": [
    {
     "name": "stdout",
     "output_type": "stream",
     "text": [
      "korelacni matice parametru\n"
     ]
    },
    {
     "data": {
      "text/plain": [
       "array([[ 1.        ,  0.85687143],\n",
       "       [ 0.85687143,  1.        ]])"
      ]
     },
     "execution_count": 20,
     "metadata": {},
     "output_type": "execute_result"
    }
   ],
   "source": [
    "errs=np.sqrt(covar.diagonal())\n",
    "corel=covar/errs.reshape(1,2)/errs.reshape(2,1)\n",
    "print(\"korelacni matice parametru\")\n",
    "corel"
   ]
  },
  {
   "cell_type": "code",
   "execution_count": 21,
   "metadata": {
    "collapsed": false,
    "deletable": true,
    "editable": true
   },
   "outputs": [
    {
     "name": "stdout",
     "output_type": "stream",
     "text": [
      "nejistoty parametru:[ 0.11844711  0.02592207]\n"
     ]
    }
   ],
   "source": [
    "errs*=np.sqrt(rs0)\n",
    "print(\"nejistoty parametru:\"+str(errs))"
   ]
  },
  {
   "cell_type": "code",
   "execution_count": 22,
   "metadata": {
    "collapsed": false
   },
   "outputs": [
    {
     "data": {
      "text/plain": [
       "array([ 3.4278633 ,  0.31105811])"
      ]
     },
     "execution_count": 22,
     "metadata": {},
     "output_type": "execute_result"
    },
    {
     "data": {
      "image/png": "[encoded data removed]",
      "text/plain": [
       "<matplotlib.figure.Figure at 0x9f19278>"
      ]
     },
     "metadata": {},
     "output_type": "display_data"
    }
   ],
   "source": [
    "y2=np.random.poisson(ymodel) #nekonstantni nejistoty\n",
    "mat_W=np.eye(43)*1/(y) #vahova matice jako inverze kovarianci merenych hodnot \n",
    "hessian2=mat_M.T.dot(mat_W.dot(mat_M))\n",
    "covar2=np.linalg.inv(hessian2)\n",
    "\n",
    "pars2=covar2.dot(mat_M.T.dot(mat_W.dot(y2)))\n",
    "ymodel2=mat_M.dot(pars2)\n",
    "plt.plot(x,ymodel2,'r',label=\"fitovany. prubeh\")\n",
    "plt.plot(x,y2,\"v\",label=\"mereni\")\n",
    "plt.xlabel(\"x\")\n",
    "plt.ylabel(\"y\")\n",
    "plt.legend(loc=0)\n",
    "pars2"
   ]
  },
  {
   "cell_type": "code",
   "execution_count": 23,
   "metadata": {
    "collapsed": false
   },
   "outputs": [
    {
     "name": "stdout",
     "output_type": "stream",
     "text": [
      "reduk. chi^2: 3.98 vs. \"prumerna\" sigma^2: 2.49 (1.76)\n"
     ]
    }
   ],
   "source": [
    "s02=sum((y2-ymodel2)**2)\n",
    "rs02=s02/(len(x)-2) #2 urcovane parametry\n",
    "print(\"reduk. chi^2: %.2f vs. \\\"prumerna\\\" sigma^2: %.2f (%.2f)\"%(rs02,y2.mean(),(np.sqrt(y2).mean())**2))"
   ]
  },
  {
   "cell_type": "code",
   "execution_count": 24,
   "metadata": {
    "collapsed": false
   },
   "outputs": [
    {
     "data": {
      "text/plain": [
       "0.38017322701385869"
      ]
     },
     "execution_count": 24,
     "metadata": {},
     "output_type": "execute_result"
    }
   ],
   "source": [
    "s02m=(y2-ymodel2).T.dot(mat_W.dot(y2-ymodel2))\n",
    "rs02m=s02m/(len(x)-2)\n",
    "rs02m"
   ]
  },
  {
   "cell_type": "code",
   "execution_count": 25,
   "metadata": {
    "collapsed": false
   },
   "outputs": [
    {
     "name": "stdout",
     "output_type": "stream",
     "text": [
      "nejistoty parametru:[ 1.33326571  0.20980552]\n",
      "korelacni matice parametru\n"
     ]
    },
    {
     "data": {
      "text/plain": [
       "array([[ 1.        ,  0.96226824],\n",
       "       [ 0.96226824,  1.        ]])"
      ]
     },
     "execution_count": 25,
     "metadata": {},
     "output_type": "execute_result"
    }
   ],
   "source": [
    "errs2=np.sqrt(covar2.diagonal())\n",
    "corel2=covar2/errs2.reshape(1,2)/errs2.reshape(2,1)\n",
    "print(\"nejistoty parametru:\"+str(errs2))\n",
    "print(\"korelacni matice parametru\")\n",
    "corel2"
   ]
  },
  {
   "cell_type": "code",
   "execution_count": 26,
   "metadata": {
    "collapsed": false,
    "deletable": true,
    "editable": true
   },
   "outputs": [
    {
     "data": {
      "text/plain": [
       "<matplotlib.legend.Legend at 0x9f435f8>"
      ]
     },
     "execution_count": 26,
     "metadata": {},
     "output_type": "execute_result"
    },
    {
     "data": {
      "image/png": "[encoded data removed]",
      "text/plain": [
       "<matplotlib.figure.Figure at 0x9f439e8>"
      ]
     },
     "metadata": {},
     "output_type": "display_data"
    }
   ],
   "source": [
    "xbins=np.r_[-15:15:2]\n",
    "ok1=plt.hist(popt[0]*np.exp(-x*popt[1])-ymodel,xbins,alpha=0.5,label=\"konst.sigma\")\n",
    "plt.legend(loc=0)"
   ]
  },
  {
   "cell_type": "code",
   "execution_count": 27,
   "metadata": {
    "collapsed": false,
    "deletable": true,
    "editable": true
   },
   "outputs": [
    {
     "data": {
      "text/plain": [
       "(-0.0022353703148749863, -1.3146156556762758)"
      ]
     },
     "execution_count": 27,
     "metadata": {},
     "output_type": "execute_result"
    }
   ],
   "source": [
    "def moments(meas):\n",
    "    cmeas = meas-meas.mean()\n",
    "    return (cmeas**2).mean(), (cmeas**3).mean(),(cmeas**4).mean()\n",
    "moms1 = moments(([np.ones(len(x)), (-x)])-ymodel)\n",
    "skew1,curt1 = moms1[1]/moms1[0]**1.5,moms1[2]/moms1[0]**2-3\n",
    "skew1,curt1"
   ]
  }
 ],
 "metadata": {
  "kernelspec": {
   "display_name": "Python 3",
   "language": "python",
   "name": "python3"
  },
  "language_info": {
   "codemirror_mode": {
    "name": "ipython",
    "version": 3
   },
   "file_extension": ".py",
   "mimetype": "text/x-python",
   "name": "python",
   "nbconvert_exporter": "python",
   "pygments_lexer": "ipython3",
   "version": "3.5.3"
  }
 },
 "nbformat": 4,
 "nbformat_minor": 2
}
