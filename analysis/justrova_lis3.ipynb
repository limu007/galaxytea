{
 "cells": [
  {
   "cell_type": "code",
   "execution_count": 1,
   "metadata": {
    "collapsed": false,
    "deletable": true,
    "editable": true
   },
   "outputs": [],
   "source": [
    "%matplotlib inline\n",
    "import matplotlib.pyplot as plt\n",
    "import numpy as np\n",
    "import pandas as pd\n",
    "import scipy.optimize\n",
    "import scipy.stats"
   ]
  },
  {
   "cell_type": "code",
   "execution_count": 2,
   "metadata": {
    "collapsed": false,
    "deletable": true,
    "editable": true
   },
   "outputs": [],
   "source": [
    "mereni = x,y = np.loadtxt('sada_422944_50ks-bez0.txt', unpack = True) #unpack-ulozeni v x, y; rucni odstr. nulovych hodnot"
   ]
  },
  {
   "cell_type": "code",
   "execution_count": 3,
   "metadata": {
    "collapsed": false,
    "deletable": true,
    "editable": true
   },
   "outputs": [
    {
     "data": {
      "text/plain": [
       "[<matplotlib.lines.Line2D at 0x99a7518>]"
      ]
     },
     "execution_count": 3,
     "metadata": {},
     "output_type": "execute_result"
    },
    {
     "data": {
      "image/png": "[encoded data removed]",
      "text/plain": [
       "<matplotlib.figure.Figure at 0x46eee48>"
      ]
     },
     "metadata": {},
     "output_type": "display_data"
    }
   ],
   "source": [
    "plt.plot(x, y, 'x') #obyc. vykresleni dat"
   ]
  },
  {
   "cell_type": "code",
   "execution_count": 4,
   "metadata": {
    "collapsed": false
   },
   "outputs": [],
   "source": [
    "lny = np.log(y) #hlaska = pro funkci vyhodit nuly (log v nule nedefinovan) - vyhozeno rucne"
   ]
  },
  {
   "cell_type": "code",
   "execution_count": 5,
   "metadata": {
    "collapsed": false
   },
   "outputs": [],
   "source": [
    "#pole = [] #neni potreba, vyreseno rucne\n",
    "#for x in mereni: \n",
    "    #if x[1] !=0:\n",
    "        #pole.append(x)\n",
    "#pole=np.array(pole)\n",
    "#x,y=data=np.transpose(pole) "
   ]
  },
  {
   "cell_type": "code",
   "execution_count": 6,
   "metadata": {
    "collapsed": false,
    "deletable": true,
    "editable": true,
    "scrolled": true
   },
   "outputs": [
    {
     "data": {
      "text/plain": [
       "array([[ 1.  , -0.06],\n",
       "       [ 1.  , -0.24],\n",
       "       [ 1.  , -0.42],\n",
       "       [ 1.  , -0.6 ],\n",
       "       [ 1.  , -0.78],\n",
       "       [ 1.  , -0.96],\n",
       "       [ 1.  , -1.14],\n",
       "       [ 1.  , -1.32],\n",
       "       [ 1.  , -1.5 ],\n",
       "       [ 1.  , -1.68],\n",
       "       [ 1.  , -1.86],\n",
       "       [ 1.  , -2.04],\n",
       "       [ 1.  , -2.22],\n",
       "       [ 1.  , -2.4 ],\n",
       "       [ 1.  , -2.58],\n",
       "       [ 1.  , -2.76],\n",
       "       [ 1.  , -2.94],\n",
       "       [ 1.  , -3.12],\n",
       "       [ 1.  , -3.3 ],\n",
       "       [ 1.  , -3.48],\n",
       "       [ 1.  , -3.66],\n",
       "       [ 1.  , -3.84],\n",
       "       [ 1.  , -4.02],\n",
       "       [ 1.  , -4.2 ],\n",
       "       [ 1.  , -4.38],\n",
       "       [ 1.  , -4.56],\n",
       "       [ 1.  , -4.74],\n",
       "       [ 1.  , -4.92],\n",
       "       [ 1.  , -5.1 ],\n",
       "       [ 1.  , -5.28],\n",
       "       [ 1.  , -5.46],\n",
       "       [ 1.  , -5.64],\n",
       "       [ 1.  , -5.82],\n",
       "       [ 1.  , -6.  ],\n",
       "       [ 1.  , -6.18],\n",
       "       [ 1.  , -6.36],\n",
       "       [ 1.  , -6.72],\n",
       "       [ 1.  , -6.9 ],\n",
       "       [ 1.  , -7.08],\n",
       "       [ 1.  , -7.62],\n",
       "       [ 1.  , -7.8 ],\n",
       "       [ 1.  , -8.16],\n",
       "       [ 1.  , -8.52]])"
      ]
     },
     "execution_count": 6,
     "metadata": {},
     "output_type": "execute_result"
    }
   ],
   "source": [
    "mat_M = np.array([np.ones(len(x)), (-x)]).T #model. matice - jak by to melo vypadat / opraveno na zlog. / vyhneme se exp.\n",
    "mat_M"
   ]
  },
  {
   "cell_type": "code",
   "execution_count": 7,
   "metadata": {
    "collapsed": true,
    "deletable": true,
    "editable": true
   },
   "outputs": [],
   "source": [
    "#hessian = mat_M.T.dot(mat_M) - nelze pouzit, zmena konst. nejistot kvuli log(y)\n",
    "mat_W = np.eye(43)*1/(y) #vahova matice jako inverze kovarianci merenych hodnot \n",
    "hessian = mat_M.T.dot(mat_W.dot(mat_M))"
   ]
  },
  {
   "cell_type": "code",
   "execution_count": 8,
   "metadata": {
    "collapsed": false,
    "deletable": true,
    "editable": true
   },
   "outputs": [
    {
     "data": {
      "text/plain": [
       "array([[   7.59803146,  -46.46190826],\n",
       "       [ -46.46190826,  306.83203377]])"
      ]
     },
     "execution_count": 8,
     "metadata": {},
     "output_type": "execute_result"
    }
   ],
   "source": [
    "hessian"
   ]
  },
  {
   "cell_type": "code",
   "execution_count": 9,
   "metadata": {
    "collapsed": false,
    "deletable": true,
    "editable": true
   },
   "outputs": [
    {
     "data": {
      "text/plain": [
       "array([[ 1.77759745,  0.26917193],\n",
       "       [ 0.26917193,  0.04401835]])"
      ]
     },
     "execution_count": 9,
     "metadata": {},
     "output_type": "execute_result"
    }
   ],
   "source": [
    "covar = np.linalg.inv(hessian) #kovariancni matice\n",
    "covar"
   ]
  },
  {
   "cell_type": "code",
   "execution_count": 10,
   "metadata": {
    "collapsed": false,
    "deletable": true,
    "editable": true
   },
   "outputs": [
    {
     "data": {
      "text/plain": [
       "array([ 108.23649621,   15.43421123])"
      ]
     },
     "execution_count": 10,
     "metadata": {},
     "output_type": "execute_result"
    }
   ],
   "source": [
    "pars1 = covar.dot(mat_M.T.dot(lny))\n",
    "pars1"
   ]
  },
  {
   "cell_type": "code",
   "execution_count": 11,
   "metadata": {
    "collapsed": false
   },
   "outputs": [
    {
     "data": {
      "text/plain": [
       "(1.0151098544523547e+47, 15.4342112297225)"
      ]
     },
     "execution_count": 11,
     "metadata": {},
     "output_type": "execute_result"
    }
   ],
   "source": [
    "A = np.exp(pars1[0])\n",
    "l = pars1[1]\n",
    "A, l #spocitane hodnoty parametru"
   ]
  },
  {
   "cell_type": "code",
   "execution_count": 12,
   "metadata": {
    "collapsed": false,
    "deletable": true,
    "editable": true
   },
   "outputs": [
    {
     "data": {
      "text/plain": [
       "<matplotlib.legend.Legend at 0x9a76f98>"
      ]
     },
     "execution_count": 12,
     "metadata": {},
     "output_type": "execute_result"
    },
    {
     "data": {
      "image/png": "[encoded data removed]",
      "text/plain": [
       "<matplotlib.figure.Figure at 0x97ff080>"
      ]
     },
     "metadata": {},
     "output_type": "display_data"
    }
   ],
   "source": [
    "plt.plot(x, y, 'x', label='merene hodnoty')\n",
    "plt.plot(x, A*np.exp(-x*l), label='fitovany prubeh')\n",
    "plt.xlabel('t')\n",
    "plt.ylabel('signal')\n",
    "plt.legend(loc=0)"
   ]
  },
  {
   "cell_type": "code",
   "execution_count": 13,
   "metadata": {
    "collapsed": false,
    "deletable": true,
    "editable": true
   },
   "outputs": [],
   "source": [
    "#suma rezidui\n",
    "s0 = sum((lny-(pars1[0]-x*pars1[1]))**2)\n",
    "rs0 = s0/(len(x)-2) #2 urcovane parametry"
   ]
  },
  {
   "cell_type": "code",
   "execution_count": 14,
   "metadata": {
    "collapsed": false,
    "deletable": true,
    "editable": true
   },
   "outputs": [
    {
     "name": "stdout",
     "output_type": "stream",
     "text": [
      "korelacni matice parametru\n"
     ]
    },
    {
     "data": {
      "text/plain": [
       "array([[ 1.        ,  0.96226824],\n",
       "       [ 0.96226824,  1.        ]])"
      ]
     },
     "execution_count": 14,
     "metadata": {},
     "output_type": "execute_result"
    }
   ],
   "source": [
    "errs = np.sqrt(covar.diagonal())\n",
    "corel = covar/errs.reshape(1,2)/errs.reshape(2,1)\n",
    "print(\"korelacni matice parametru\")\n",
    "corel"
   ]
  },
  {
   "cell_type": "code",
   "execution_count": 15,
   "metadata": {
    "collapsed": false,
    "deletable": true,
    "editable": true
   },
   "outputs": [
    {
     "name": "stdout",
     "output_type": "stream",
     "text": [
      "nejistoty parametru:[ 78.3797813   12.33400845]\n"
     ]
    }
   ],
   "source": [
    "errs*=np.sqrt(rs0)\n",
    "print(\"nejistoty parametru:\"+str(errs))"
   ]
  },
  {
   "cell_type": "code",
   "execution_count": 16,
   "metadata": {
    "collapsed": false
   },
   "outputs": [
    {
     "name": "stdout",
     "output_type": "stream",
     "text": [
      "parametry A, l\n"
     ]
    },
    {
     "data": {
      "text/plain": [
       "(50.151385216645288, 0.45645506461695051)"
      ]
     },
     "execution_count": 16,
     "metadata": {},
     "output_type": "execute_result"
    }
   ],
   "source": [
    "#nekonstantni nejistoty, mnoo mame definovano vyse, ale pro uplnost znovu:\n",
    "lny = np.log(y) #4\n",
    "mat_M = np.array([np.ones(len(x)), (-x)]).T #6\n",
    "mat_W = np.eye(43)*1/(y) #vahova matice jako inverze kovarianci merenych hodnot \n",
    "hessian = mat_M.T.dot(mat_W.dot(mat_M)) #7\n",
    "covar = np.linalg.inv(hessian) #9\n",
    "pars2 = covar.dot(mat_M.T.dot(mat_W.dot(lny)))\n",
    "A2 = np.exp(pars2[0])\n",
    "l2 = pars2[1]\n",
    "print(\"parametry A, l\")\n",
    "A2, l2"
   ]
  },
  {
   "cell_type": "code",
   "execution_count": 17,
   "metadata": {
    "collapsed": false
   },
   "outputs": [
    {
     "name": "stdout",
     "output_type": "stream",
     "text": [
      "korelacni matice parametru\n"
     ]
    },
    {
     "data": {
      "text/plain": [
       "array([[ 0.01701033,  0.0163685 ],\n",
       "       [ 0.0163685 ,  0.01701033]])"
      ]
     },
     "execution_count": 17,
     "metadata": {},
     "output_type": "execute_result"
    }
   ],
   "source": [
    "s2 = sum((lny-(pars2[0]-x*pars2[1]))**2)\n",
    "rs2 = s2/(len(x)-2) #2 urcovane parametry\n",
    "errs2 = np.sqrt(covar.diagonal())\n",
    "corel2 = covar/errs2.reshape(1,2)/errs.reshape(2,1)\n",
    "print(\"korelacni matice parametru\")\n",
    "corel2"
   ]
  },
  {
   "cell_type": "code",
   "execution_count": 18,
   "metadata": {
    "collapsed": false
   },
   "outputs": [
    {
     "name": "stdout",
     "output_type": "stream",
     "text": [
      "nejistoty parametru:[ 1.33326571  0.20980552]\n"
     ]
    }
   ],
   "source": [
    "errs*=np.sqrt(rs2)\n",
    "print(\"nejistoty parametru:\"+str(errs2))"
   ]
  },
  {
   "cell_type": "code",
   "execution_count": 19,
   "metadata": {
    "collapsed": false
   },
   "outputs": [
    {
     "data": {
      "text/plain": [
       "array([ 3.91504614,  0.45645506])"
      ]
     },
     "execution_count": 19,
     "metadata": {},
     "output_type": "execute_result"
    },
    {
     "data": {
      "image/png": "[encoded data removed]",
      "text/plain": [
       "<matplotlib.figure.Figure at 0x9a8dd68>"
      ]
     },
     "metadata": {},
     "output_type": "display_data"
    }
   ],
   "source": [
    "plt.plot(x, y, 'x', label=\"merene hodnoty\")\n",
    "plt.plot(x, A2*np.exp(-x*l2), label=\"fitovany. prubeh\")\n",
    "plt.xlabel(\"x\")\n",
    "plt.ylabel(\"y\")\n",
    "plt.legend(loc=0)\n",
    "pars2"
   ]
  },
  {
   "cell_type": "code",
   "execution_count": 20,
   "metadata": {
    "collapsed": true
   },
   "outputs": [],
   "source": [
    "def f(x, A, l):\n",
    "    return (A)*np.exp(-x*l) "
   ]
  },
  {
   "cell_type": "code",
   "execution_count": 21,
   "metadata": {
    "collapsed": true
   },
   "outputs": [],
   "source": [
    "popt, pcov = scipy.optimize.curve_fit(f, x, y)"
   ]
  },
  {
   "cell_type": "code",
   "execution_count": 22,
   "metadata": {
    "collapsed": false
   },
   "outputs": [
    {
     "data": {
      "text/plain": [
       "<matplotlib.legend.Legend at 0x9ff2f98>"
      ]
     },
     "execution_count": 22,
     "metadata": {},
     "output_type": "execute_result"
    },
    {
     "data": {
      "image/png": "[encoded data removed]",
      "text/plain": [
       "<matplotlib.figure.Figure at 0x9f44da0>"
      ]
     },
     "metadata": {},
     "output_type": "display_data"
    }
   ],
   "source": [
    "xbins=np.r_[-15:30:2]\n",
    "ok1=plt.hist(popt[0]*np.exp(-x*popt[1])-lny,xbins,alpha=0.5,label=\"konst.sigma\")\n",
    "plt.legend(loc=0)"
   ]
  },
  {
   "cell_type": "code",
   "execution_count": 23,
   "metadata": {
    "collapsed": false
   },
   "outputs": [
    {
     "data": {
      "text/plain": [
       "(-0.029700170599881278, -1.1654626333771769)"
      ]
     },
     "execution_count": 23,
     "metadata": {},
     "output_type": "execute_result"
    }
   ],
   "source": [
    "def moments(meas):\n",
    "    cmeas = meas-meas.mean()\n",
    "    return (cmeas**2).mean(), (cmeas**3).mean(),(cmeas**4).mean()\n",
    "moms = moments(([np.ones(len(x)), (-x)])-lny)\n",
    "skew, curt = moms[1]/moms[0]**1.5,moms[2]/moms[0]**2-3\n",
    "skew, curt"
   ]
  },
  {
   "cell_type": "code",
   "execution_count": 24,
   "metadata": {
    "collapsed": false
   },
   "outputs": [
    {
     "data": {
      "text/plain": [
       "0.3735436838188142"
      ]
     },
     "execution_count": 24,
     "metadata": {},
     "output_type": "execute_result"
    }
   ],
   "source": [
    "er_skew = np.sqrt(6/len(x))\n",
    "er_skew "
   ]
  },
  {
   "cell_type": "code",
   "execution_count": 25,
   "metadata": {
    "collapsed": false
   },
   "outputs": [
    {
     "data": {
      "text/plain": [
       "0.7470873676376284"
      ]
     },
     "execution_count": 25,
     "metadata": {},
     "output_type": "execute_result"
    }
   ],
   "source": [
    "er_curt = np.sqrt(24/len(x))\n",
    "er_curt "
   ]
  },
  {
   "cell_type": "code",
   "execution_count": 26,
   "metadata": {
    "collapsed": false
   },
   "outputs": [
    {
     "data": {
      "text/plain": [
       "0.91291012923390102"
      ]
     },
     "execution_count": 26,
     "metadata": {},
     "output_type": "execute_result"
    }
   ],
   "source": [
    "two_sigma = (pars2[1])*2 \n",
    "two_sigma"
   ]
  },
  {
   "cell_type": "code",
   "execution_count": 27,
   "metadata": {
    "collapsed": false
   },
   "outputs": [
    {
     "name": "stdout",
     "output_type": "stream",
     "text": [
      "odchylka neni stat. vyznamna\n"
     ]
    }
   ],
   "source": [
    "if [er_curt - er_skew] < two_sigma:\n",
    "    print (\"odchylka neni stat. vyznamna\")"
   ]
  }
 ],
 "metadata": {
  "kernelspec": {
   "display_name": "Python 3",
   "language": "python",
   "name": "python3"
  },
  "language_info": {
   "codemirror_mode": {
    "name": "ipython",
    "version": 3
   },
   "file_extension": ".py",
   "mimetype": "text/x-python",
   "name": "python",
   "nbconvert_exporter": "python",
   "pygments_lexer": "ipython3",
   "version": "3.5.3"
  }
 },
 "nbformat": 4,
 "nbformat_minor": 2
}
