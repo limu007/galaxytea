{
 "cells": [
  {
   "cell_type": "markdown",
   "metadata": {},
   "source": [
    "ukazkove zpracovani v 0414190301\n"
   ]
  },
  {
   "cell_type": "code",
   "execution_count": 1,
   "metadata": {
    "collapsed": true
   },
   "outputs": [],
   "source": [
    "idir=\"/home/data/sandbox/3C273_all/\"\n",
    "\n",
    "import os\n",
    "ilist=os.listdir(idir)\n",
    "from glob import glob\n",
    "\n",
    "\n",
    "ele=[glob(idir+w+\"/odf/*TAR\") for w in ilist]\n",
    "def ru1(w):\n",
    "   os.chdir(idir+w+\"/odf/\");os.system(\"tar xzf \"+w+\".tar.gz\")\n"
   ]
  },
  {
   "cell_type": "code",
   "execution_count": 23,
   "metadata": {
    "collapsed": false
   },
   "outputs": [
    {
     "data": {
      "text/plain": [
       "[<Process(Process-25, started)>,\n",
       " <Process(Process-26, started)>,\n",
       " <Process(Process-27, started)>,\n",
       " <Process(Process-28, started)>,\n",
       " <Process(Process-29, started)>,\n",
       " <Process(Process-30, started)>,\n",
       " <Process(Process-31, started)>,\n",
       " <Process(Process-32, started)>,\n",
       " <Process(Process-33, started)>,\n",
       " <Process(Process-34, started)>,\n",
       " <Process(Process-35, started)>,\n",
       " <Process(Process-36, started)>,\n",
       " <Process(Process-37, started)>,\n",
       " <Process(Process-38, started)>]"
      ]
     },
     "execution_count": 23,
     "metadata": {},
     "output_type": "execute_result"
    }
   ],
   "source": [
    "qru1=lambda q,w:q.put(ru1(w))\n",
    "todo=[ilist[e] for e in range(len(ele)) if len(ele[e])==0 and not os.path.exists(idir+ilist[e]+\"/odf/ccf.cif\")]\n",
    "todo\n",
    "jobs=[]\n",
    "for i in todo:\n",
    "    p = mp.Process(target=ru1, args=(i,))\n",
    "    jobs.append(p)\n",
    "    p.start()\n",
    "jobs"
   ]
  },
  {
   "cell_type": "code",
   "execution_count": 2,
   "metadata": {
    "collapsed": true
   },
   "outputs": [],
   "source": [
    "import subprocess as sp\n",
    "import multiprocessing as mp"
   ]
  },
  {
   "cell_type": "code",
   "execution_count": 35,
   "metadata": {
    "collapsed": true
   },
   "outputs": [],
   "source": [
    "ele=[glob(idir+w+\"/odf/*TAR\") for w in ilist]\n",
    "def ru2(w):\n",
    "   os.chdir(os.path.dirname(w))\n",
    "   os.system(\"tar xf \"+os.path.basename(w))\n",
    "   #os.mkdir(\"pn\")\n",
    "   os.unlink(w)\n",
    "\n",
    "ele2=glob(idir+\"0*/odf/*SUM.ASC\")\n",
    "def ru3(u):\n",
    "  os.environ[\"SAS_ODF\"]=u\n",
    "  print(sp.Popen(\"cifbuild\",cwd=os.path.dirname(u),stdout=sp.PIPE).stdout.readlines()[-1])"
   ]
  },
  {
   "cell_type": "code",
   "execution_count": 29,
   "metadata": {
    "collapsed": false
   },
   "outputs": [
    {
     "data": {
      "text/plain": [
       "[<Process(Process-39, started)>,\n",
       " <Process(Process-40, started)>,\n",
       " <Process(Process-41, started)>,\n",
       " <Process(Process-42, started)>,\n",
       " <Process(Process-43, started)>,\n",
       " <Process(Process-44, started)>,\n",
       " <Process(Process-45, started)>,\n",
       " <Process(Process-46, started)>,\n",
       " <Process(Process-47, started)>,\n",
       " <Process(Process-48, started)>,\n",
       " <Process(Process-49, started)>,\n",
       " <Process(Process-50, started)>,\n",
       " <Process(Process-51, started)>,\n",
       " <Process(Process-52, started)>]"
      ]
     },
     "execution_count": 29,
     "metadata": {},
     "output_type": "execute_result"
    }
   ],
   "source": [
    "# next step of unpacking\n",
    "todo=[e[0] for e in ele if len(e)>0]\n",
    "jobs=[]\n",
    "for i in todo:\n",
    "    p = mp.Process(target=ru2, args=(i,))\n",
    "    jobs.append(p)\n",
    "    p.start()\n",
    "jobs"
   ]
  },
  {
   "cell_type": "code",
   "execution_count": 47,
   "metadata": {
    "collapsed": false
   },
   "outputs": [
    {
     "data": {
      "text/plain": [
       "[<Process(Process-73, started)>,\n",
       " <Process(Process-74, started)>,\n",
       " <Process(Process-75, started)>,\n",
       " <Process(Process-76, started)>,\n",
       " <Process(Process-77, started)>,\n",
       " <Process(Process-78, started)>]"
      ]
     },
     "execution_count": 47,
     "metadata": {},
     "output_type": "execute_result"
    }
   ],
   "source": [
    "todo=[e for e in ele2 if not os.path.exists(os.path.dirname(e)+\"/ccf.cif\")]\n",
    "jobs=[]\n",
    "for i in todo[:10]:\n",
    "    p = mp.Process(target=ru3, args=(i,))\n",
    "    jobs.append(p)\n",
    "    p.start()\n",
    "jobs"
   ]
  },
  {
   "cell_type": "code",
   "execution_count": 51,
   "metadata": {
    "collapsed": false
   },
   "outputs": [
    {
     "data": {
      "text/plain": [
       "(38, 38, 38)"
      ]
     },
     "execution_count": 51,
     "metadata": {},
     "output_type": "execute_result"
    }
   ],
   "source": [
    "ele3=glob(idir+\"0*/odf/ccf.cif\")\n",
    "len(ilist),len(ele2),len(ele3)"
   ]
  },
  {
   "cell_type": "code",
   "execution_count": 3,
   "metadata": {
    "collapsed": true
   },
   "outputs": [],
   "source": [
    "os.environ.update({\"HEADAS\":\"/isdc/heasoft-6.16/x86_64-unknown-linux-gnu-libc2.12/\"})\n",
    "scrp=os.popen(\"/isdc/heasoft-6.16/x86_64-unknown-linux-gnu-libc2.12/BUILD_DIR/headas-setup csh\").read().strip()\n",
    "scomm=open(scrp).readlines()\n",
    "os.unlink(scrp)\n",
    "#scomm\n",
    "slist=[a.strip().replace('\"','').split()[1:] for a in scomm]\n",
    "os.environ.update(dict(slist))"
   ]
  },
  {
   "cell_type": "code",
   "execution_count": 4,
   "metadata": {
    "collapsed": false
   },
   "outputs": [],
   "source": [
    "os.environ[\"SAS_DIR\"]=\"/isdc/xmmsas_20141104_1833\"\n",
    "rdir=os.environ[\"SAS_DIR\"]\n",
    "os.environ.update({'SAS_PATH':rdir,'SAS_VERBOSITY':'4','SAS_IMAGEVIEWER':'ds9','SAS_BROWSER':'firefox','SAS_SUPPRESS_WARNING':'1'})\n",
    "os.environ['LD_LIBRARY_PATH']=rdir+'/lib:'+rdir+'/libextra:'+os.environ.get('LD_LIBRARY_PATH','.')\n",
    "#+'/opt/rh/python33/root/usr/lib64:/isdc/heasoft-6.16/x86_64-unknown-linux-gnu-libc2.12/lib'\n",
    "os.environ['LIBRARY_PATH']=rdir+'/libsys:'+rdir+'/libextra:'+rdir+'/lib'\n",
    "os.environ['PATH']=rdir+'/binextra:'+rdir+'/bin:'+rdir+'/bin/devel:'+os.environ.get('PATH','')"
   ]
  },
  {
   "cell_type": "code",
   "execution_count": 53,
   "metadata": {
    "collapsed": false
   },
   "outputs": [],
   "source": [
    "sas_init=\". \"+os.environ[\"SAS_DIR\"]+\"/sas-setup.sh; \"\n",
    "def ru4(u):\n",
    "  os.environ[\"SAS_ODF\"]=os.path.dirname(u)\n",
    "  os.environ[\"SAS_CCF\"]=u\n",
    "  print(sp.Popen(\"odfingest\",cwd=os.path.dirname(u),stdout=sp.PIPE).stdout.readlines()[-1])\n",
    "  return\n",
    "#ru4(ele3[4])"
   ]
  },
  {
   "cell_type": "code",
   "execution_count": 56,
   "metadata": {
    "collapsed": false
   },
   "outputs": [
    {
     "name": "stdout",
     "output_type": "stream",
     "text": [
      "5 ['/home/data/sandbox/3C273_all/0414190101/odf/ccf.cif', '/home/data/sandbox/3C273_all/0414191001/odf/ccf.cif', '/home/data/sandbox/3C273_all/0725060601/odf/ccf.cif', '/home/data/sandbox/3C273_all/0725060501/odf/ccf.cif', '/home/data/sandbox/3C273_all/0725060301/odf/ccf.cif']\n"
     ]
    }
   ],
   "source": [
    "ele4=glob(idir+\"0*/odf/*SAS\")\n",
    "dir4=[os.path.dirname(e) for e in ele4]\n",
    "todo=[e for e in ele3 if os.path.dirname(e) not in dir4]\n",
    "print(len(todo),todo[:5])\n",
    "jobs=[]\n",
    "for i in todo[:8]:\n",
    "    p = mp.Process(target=ru4, args=(i,))\n",
    "    jobs.append(p)\n",
    "    p.start()"
   ]
  },
  {
   "cell_type": "code",
   "execution_count": 58,
   "metadata": {
    "collapsed": false
   },
   "outputs": [
    {
     "name": "stdout",
     "output_type": "stream",
     "text": [
      "b'odfingest:- odfingest (odfingest-3.30)  [xmmsas_20141104_1833-14.0.0] ended:    2015-03-17T16:48:28.000\\n'\n"
     ]
    },
    {
     "data": {
      "text/plain": [
       "[<Process(0414190401, started)>,\n",
       " <Process(0725060401, started)>,\n",
       " <Process(0414190501, started)>,\n",
       " <Process(0414190601, started)>,\n",
       " <Process(0414190701, started)>,\n",
       " <Process(0414190201, started)>,\n",
       " <Process(0414190801, started)>,\n",
       " <Process(0725060701, started)>]"
      ]
     },
     "execution_count": 58,
     "metadata": {},
     "output_type": "execute_result"
    }
   ],
   "source": [
    "sele4 = [os.path.dirname(e) for e in ele4 if not os.path.exists(os.path.dirname(e)+'/mos')]\n",
    "def ru5(u,mode='pn'):\n",
    "  os.environ[\"SAS_ODF\"]=u\n",
    "  os.environ[\"SAS_CCF\"]=u+'/ccf.cif'\n",
    "  os.mkdir(u+'/'+mode)\n",
    "  print(sp.Popen(\"e\"+mode[0]+\"proc\",cwd=u+'/'+mode,stdout=sp.PIPE,stderr=sp.PIPE).stdout.readlines()[-1])\n",
    "  return\n",
    "\n",
    "jobs=[]\n",
    "for i in sele4[:14]:\n",
    "    p = mp.Process(target=ru5, args=(i,'mos'),name=i[-14:-4])\n",
    "    jobs.append(p)\n",
    "    p.start()\n",
    "jobs"
   ]
  },
  {
   "cell_type": "code",
   "execution_count": 60,
   "metadata": {
    "collapsed": false
   },
   "outputs": [
    {
     "name": "stdout",
     "output_type": "stream",
     "text": [
      "7\n",
      "b'emproc:- emproc (epicproc-2.17.4)  [xmmsas_20141104_1833-14.0.0] ended:    2015-03-17T16:49:24.000\\n'\n"
     ]
    },
    {
     "data": {
      "text/plain": [
       "[<Process(0414190401, started)>,\n",
       " <Process(0725060401, started)>,\n",
       " <Process(0414190501, started)>,\n",
       " <Process(0414190601, started)>,\n",
       " <Process(0414190701, started)>,\n",
       " <Process(0414190201, started)>,\n",
       " <Process(0414190801, started)>]"
      ]
     },
     "execution_count": 60,
     "metadata": {},
     "output_type": "execute_result"
    }
   ],
   "source": [
    "zz=[q for q in jobs if q.is_alive()]\n",
    "print(len(zz))\n",
    "zz"
   ]
  },
  {
   "cell_type": "code",
   "execution_count": 19,
   "metadata": {
    "collapsed": false
   },
   "outputs": [
    {
     "name": "stdout",
     "output_type": "stream",
     "text": [
      "b'emproc:- emproc (epicproc-2.17.4)  [xmmsas_20141104_1833-14.0.0] ended:    2015-03-17T16:02:48.000\\n'\n",
      "b'emproc:- emproc (epicproc-2.17.4)  [xmmsas_20141104_1833-14.0.0] ended:    2015-03-17T16:02:51.000\\n'\n",
      "b'emproc:- emproc (epicproc-2.17.4)  [xmmsas_20141104_1833-14.0.0] ended:    2015-03-17T16:02:55.000\\n'\n",
      "b'emproc:- emproc (epicproc-2.17.4)  [xmmsas_20141104_1833-14.0.0] ended:    2015-03-17T16:03:01.000\\n'\n",
      "b'emproc:- emproc (epicproc-2.17.4)  [xmmsas_20141104_1833-14.0.0] ended:    2015-03-17T16:03:02.000\\n'\n"
     ]
    },
    {
     "data": {
      "text/plain": [
       "[('0382_0137551001_EMOS2_U008_ImagingEvts.ds', 1),\n",
       " ('0382_0137551001_EMOS2_U005_ImagingEvts.ds', 3),\n",
       " ('0382_0137551001_EMOS1_U004_ImagingEvts.ds', 1),\n",
       " ('0382_0137551001_EMOS1_U008_TimingEvts.ds', 3),\n",
       " ('0382_0137551001_EMOS1_U007_ImagingEvts.ds', 5),\n",
       " ('0382_0137551001_EMOS1_U008_ImagingEvts.ds', 1),\n",
       " ('0382_0137551001_EMOS2_U008_TimingEvts.ds', 3),\n",
       " ('0382_0137551001_EMOS2_U007_ImagingEvts.ds', 1),\n",
       " ('0382_0137551001_EMOS2_U004_ImagingEvts.ds', 1),\n",
       " ('0094_0126700201_EMOS1_S001_ImagingEvts.ds', 25),\n",
       " ('0094_0126700201_EMOS2_S002_ImagingEvts.ds', 24),\n",
       " ('0655_0159960101_EMOS2_S004_ImagingEvts.ds', 47),\n",
       " ('0655_0159960101_EMOS1_S003_ImagingEvts.ds', 47),\n",
       " ('1023_0136551001_EMOS1_S001_ImagingEvts.ds', 17),\n",
       " ('1023_0136551001_EMOS2_S002_ImagingEvts.ds', 18),\n",
       " ('0472_0112770601_EMOS2_S003_ImagingEvts.ds', 1),\n",
       " ('0472_0112770601_EMOS1_S002_TimingEvts.ds', 0),\n",
       " ('0472_0112770601_EMOS1_U002_ImagingEvts.ds', 1),\n",
       " ('0472_0112770601_EMOS1_U002_TimingEvts.ds', 1),\n",
       " ('0472_0112770601_EMOS1_S002_ImagingEvts.ds', 1),\n",
       " ('0472_0112770601_EMOS2_U002_ImagingEvts.ds', 2),\n",
       " ('0563_0112770701_EMOS2_S003_ImagingEvts.ds', 4),\n",
       " ('0563_0112770701_EMOS1_S002_ImagingEvts.ds', 0),\n",
       " ('0563_0112770701_EMOS1_S002_TimingEvts.ds', 2),\n",
       " ('0373_0112770201_EMOS1_S002_TimingEvts.ds', 2),\n",
       " ('0373_0112770201_EMOS1_S002_ImagingEvts.ds', 1),\n",
       " ('0373_0112770201_EMOS2_S003_ImagingEvts.ds', 4),\n",
       " ('0735_0112771101_EMOS2_S003_ImagingEvts.ds', 5),\n",
       " ('0735_0112771101_EMOS1_S002_ImagingEvts.ds', 1),\n",
       " ('0735_0112771101_EMOS1_S002_TimingEvts.ds', 2),\n",
       " ('0095_0126700701_EMOS1_S001_ImagingEvts.ds', 20),\n",
       " ('0095_0126700701_EMOS2_S002_ImagingEvts.ds', 20),\n",
       " ('0095_0126700601_EMOS1_S001_ImagingEvts.ds', 17),\n",
       " ('0095_0126700601_EMOS2_S002_ImagingEvts.ds', 17),\n",
       " ('0835_0136550801_EMOS1_S017_ImagingEvts.ds', 11),\n",
       " ('0835_0136550801_EMOS2_S002_ImagingEvts.ds', 40),\n",
       " ('0835_0136550801_EMOS1_S018_ImagingEvts.ds', 11),\n",
       " ('0835_0136550801_EMOS1_S001_ImagingEvts.ds', 16),\n",
       " ('0277_0136550101_EMOS2_S002_ImagingEvts.ds', 33),\n",
       " ('0277_0136550101_EMOS2_S015_ImagingEvts.ds', 32),\n",
       " ('0277_0136550101_EMOS1_S001_ImagingEvts.ds', 33),\n",
       " ('0277_0136550101_EMOS1_S014_ImagingEvts.ds', 33),\n",
       " ('0095_0126700501_EMOS1_S001_ImagingEvts.ds', 19),\n",
       " ('0095_0126700401_EMOS1_S008_ImagingEvts.ds', 3),\n",
       " ('0563_0136550501_EMOS1_S001_ImagingEvts.ds', 6),\n",
       " ('0563_0136550501_EMOS2_S002_ImagingEvts.ds', 6),\n",
       " ('0645_0112771001_EMOS1_S002_ImagingEvts.ds', 1),\n",
       " ('0645_0112771001_EMOS1_S002_TimingEvts.ds', 2),\n",
       " ('0645_0112771001_EMOS2_S003_ImagingEvts.ds', 5),\n",
       " ('1381_0414190301_EMOS1_S001_ImagingEvts.ds', 20),\n",
       " ('1381_0414190301_EMOS2_S002_ImagingEvts.ds', 20),\n",
       " ('0655_0112770501_EMOS1_S002_TimingEvts.ds', 3),\n",
       " ('0655_0112770501_EMOS2_S003_ImagingEvts.ds', 6),\n",
       " ('0655_0112770501_EMOS1_S002_ImagingEvts.ds', 1),\n",
       " ('0554_0112770801_EMOS1_S002_ImagingEvts.ds', 1),\n",
       " ('0554_0112770801_EMOS1_S002_TimingEvts.ds', 2),\n",
       " ('0554_0112770801_EMOS2_S003_ImagingEvts.ds', 4),\n",
       " ('0370_0112770101_EMOS2_S003_ImagingEvts.ds', 5),\n",
       " ('0370_0112770101_EMOS1_S002_TimingEvts.ds', 2),\n",
       " ('0370_0112770101_EMOS1_S002_ImagingEvts.ds', 2)]"
      ]
     },
     "execution_count": 19,
     "metadata": {},
     "output_type": "execute_result"
    }
   ],
   "source": [
    "res1=glob(idir+\"0*/odf/pn/*ingEvts.ds\")\n",
    "res2=glob(idir+\"0*/odf/mos/*ingEvts.ds\")\n",
    "\n",
    "[(os.path.basename(r),os.path.getsize(r)//2**20) for r in res2]"
   ]
  }
 ],
 "metadata": {
  "kernelspec": {
   "display_name": "Python 3",
   "language": "python",
   "name": "python3"
  },
  "language_info": {
   "codemirror_mode": {
    "name": "ipython",
    "version": 3
   },
   "file_extension": ".py",
   "mimetype": "text/x-python",
   "name": "python",
   "nbconvert_exporter": "python",
   "pygments_lexer": "ipython3",
   "version": "3.3.2"
  }
 },
 "nbformat": 4,
 "nbformat_minor": 0
}
