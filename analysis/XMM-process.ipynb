{
 "cells": [
  {
   "cell_type": "markdown",
   "metadata": {},
   "source": [
    "Zpracovani s XMM SAS\n",
    "================\n",
    "\n",
    "- ziskani seznamu pozorovani z [archivu](http://nxsa.esac.esa.int/nxsa-web/#search)\n",
    "- stazeni a priprava dat\n",
    "- vyber GTI\n",
    "- nalezeni zdroje a extrakce spektra"
   ]
  },
  {
   "cell_type": "code",
   "execution_count": 1,
   "metadata": {
    "collapsed": true
   },
   "outputs": [],
   "source": [
    "%matplotlib inline \n",
    "\n",
    "#stazeni souboru\n",
    "import sys,os\n",
    "homedir=\"/home/limu/data/agn/3C273/\"\n",
    "os.chdir(homedir)\n",
    "from glob import glob\n",
    "import pyfits"
   ]
  },
  {
   "cell_type": "code",
   "execution_count": 2,
   "metadata": {
    "collapsed": false
   },
   "outputs": [
    {
     "data": {
      "text/plain": [
       "'OBSERVATION.DURATION'"
      ]
     },
     "execution_count": 2,
     "metadata": {},
     "output_type": "execute_result"
    }
   ],
   "source": [
    "from numpy import array,r_,argmax,argmin,where,exp,log\n",
    "olist=[[b[1:-1] for b in a.strip().split(\",\")] for a in open(\"list_3C273.obs\").readlines()]\n",
    "olist[0][8]"
   ]
  },
  {
   "cell_type": "markdown",
   "metadata": {},
   "source": [
    "priprava dat \n",
    "---------------"
   ]
  },
  {
   "cell_type": "code",
   "execution_count": 3,
   "metadata": {
    "collapsed": false
   },
   "outputs": [],
   "source": [
    "olist=[o for o in olist if o[10]!='Calibration']"
   ]
  },
  {
   "cell_type": "code",
   "execution_count": 4,
   "metadata": {
    "collapsed": false
   },
   "outputs": [
    {
     "data": {
      "text/plain": [
       "['0159960101',\n",
       " '655',\n",
       " '2005-01-08 00:00:00.000',\n",
       " '187.27785',\n",
       " '2.052389',\n",
       " '292.54531',\n",
       " '2003-07-07 17:40:27.000',\n",
       " '2003-07-08 09:56:24.000',\n",
       " '58557',\n",
       " '3C273',\n",
       " 'Co-Chandra',\n",
       " 'Andy',\n",
       " 'Pollock',\n",
       " 'QSO RADIO LOUD',\n",
       " '289.95106834763743',\n",
       " '64.35999164648202',\n",
       " '004',\n",
       " '00000004_04_cat9.0_20121220.153800',\n",
       " '']"
      ]
     },
     "execution_count": 4,
     "metadata": {},
     "output_type": "execute_result"
    }
   ],
   "source": [
    "durat=array([float(a[8].replace('\"','')) for a in olist[1:]])\n",
    "abest=argmax(durat)\n",
    "olist[abest+1]"
   ]
  },
  {
   "cell_type": "code",
   "execution_count": 5,
   "metadata": {
    "collapsed": false
   },
   "outputs": [
    {
     "data": {
      "text/plain": [
       "['OBSERVATION.OBSERVATION_ID',\n",
       " 'OBSERVATION.REVOLUTION',\n",
       " 'OBSERVATION.PROPRIETARY_END_DATE',\n",
       " 'OBSERVATION.RA_NOM',\n",
       " 'OBSERVATION.DEC_NOM',\n",
       " 'OBSERVATION.POSITION_ANGLE',\n",
       " 'OBSERVATION.START_UTC',\n",
       " 'OBSERVATION.END_UTC',\n",
       " 'OBSERVATION.DURATION',\n",
       " 'OBSERVATION.TARGET',\n",
       " 'PROPOSAL.TYPE',\n",
       " 'PROPOSAL.PI_FIRST_NAME',\n",
       " 'PROPOSAL.PI_SURNAME',\n",
       " 'TARGET_TYPE.DESCRIPTION',\n",
       " 'OBSERVATION.LII',\n",
       " 'OBSERVATION.BII',\n",
       " 'OBSERVATION.ODF_VERSION',\n",
       " 'OBSERVATION.PPS_VERSION',\n",
       " 'OBSERVATION.OBSERVATION_DISTANCE_EQUATORIAL']"
      ]
     },
     "execution_count": 5,
     "metadata": {},
     "output_type": "execute_result"
    }
   ],
   "source": [
    "olist[0]"
   ]
  },
  {
   "cell_type": "code",
   "execution_count": 6,
   "metadata": {
    "collapsed": false
   },
   "outputs": [
    {
     "data": {
      "text/plain": [
       "['0112771101', '0112770401', '0159960101']"
      ]
     },
     "execution_count": 6,
     "metadata": {},
     "output_type": "execute_result"
    }
   ],
   "source": [
    "durmax=durat[abest]\n",
    "blist=[olist[i+1][0] for i in where(durat>0.15*durmax)[0]]\n",
    "blist"
   ]
  },
  {
   "cell_type": "code",
   "execution_count": 7,
   "metadata": {
    "collapsed": false
   },
   "outputs": [
    {
     "data": {
      "text/plain": [
       "['0159960101']"
      ]
     },
     "execution_count": 7,
     "metadata": {},
     "output_type": "execute_result"
    }
   ],
   "source": [
    "[a for a in os.listdir(\".\") if a in blist]\n",
    "#from glob import glob"
   ]
  },
  {
   "cell_type": "code",
   "execution_count": 8,
   "metadata": {
    "collapsed": false
   },
   "outputs": [
    {
     "ename": "FileExistsError",
     "evalue": "[Errno 17] File exists: '0159960101'",
     "output_type": "error",
     "traceback": [
      "\u001b[1;31m---------------------------------------------------------------------------\u001b[0m",
      "\u001b[1;31mFileExistsError\u001b[0m                           Traceback (most recent call last)",
      "\u001b[1;32m<ipython-input-8-bf0d42817f92>\u001b[0m in \u001b[0;36m<module>\u001b[1;34m()\u001b[0m\n\u001b[0;32m      1\u001b[0m \u001b[0msid\u001b[0m\u001b[1;33m=\u001b[0m\u001b[0mblist\u001b[0m\u001b[1;33m[\u001b[0m\u001b[1;33m-\u001b[0m\u001b[1;36m1\u001b[0m\u001b[1;33m]\u001b[0m\u001b[1;33m\u001b[0m\u001b[0m\n\u001b[1;32m----> 2\u001b[1;33m \u001b[0mos\u001b[0m\u001b[1;33m.\u001b[0m\u001b[0mmkdir\u001b[0m\u001b[1;33m(\u001b[0m\u001b[0msid\u001b[0m\u001b[1;33m)\u001b[0m\u001b[1;33m\u001b[0m\u001b[0m\n\u001b[0m\u001b[0;32m      3\u001b[0m \u001b[0msid\u001b[0m\u001b[1;33m\u001b[0m\u001b[0m\n",
      "\u001b[1;31mFileExistsError\u001b[0m: [Errno 17] File exists: '0159960101'"
     ]
    }
   ],
   "source": [
    "sid=blist[-1]\n",
    "os.mkdir(sid)\n",
    "sid"
   ]
  },
  {
   "cell_type": "code",
   "execution_count": 9,
   "metadata": {
    "collapsed": false
   },
   "outputs": [
    {
     "data": {
      "text/plain": [
       "\"/home/limu/bin/aioclient -S xsa.vilspa.esa.es -P 2002 -L 'GET obsno=0159960101 level=ODF'\""
      ]
     },
     "execution_count": 9,
     "metadata": {},
     "output_type": "execute_result"
    }
   ],
   "source": [
    "if os.path.exists(sid): os.chdir(sid)\n",
    "arcaddr=\"xsa.vilspa.esa.es\"\n",
    "comm=\"/home/limu/bin/aioclient -S \"+arcaddr+\" -P 2002 -L 'GET obsno=\"+sid+\" level=ODF'\"\n",
    "os.system(comm)\n",
    "comm"
   ]
  },
  {
   "cell_type": "code",
   "execution_count": 10,
   "metadata": {
    "collapsed": false
   },
   "outputs": [
    {
     "data": {
      "text/plain": [
       "'188 souboru'"
      ]
     },
     "execution_count": 10,
     "metadata": {},
     "output_type": "execute_result"
    }
   ],
   "source": [
    "ifile=os.listdir(\".\")[0]\n",
    "os.system(\"tar -xzf \"+ifile)\n",
    "os.unlink(ifile)\n",
    "ifile=glob(\"*TAR\")\n",
    "if len(ifile)>0:\n",
    "    os.system(\"tar -xf \"+ifile[0])\n",
    "    os.unlink(ifile[0])\n",
    "ifile=os.listdir(\".\")\n",
    "\"%i souboru\"%len(ifile)"
   ]
  },
  {
   "cell_type": "code",
   "execution_count": 11,
   "metadata": {
    "collapsed": false
   },
   "outputs": [],
   "source": [
    "#initializace HEADAS\n",
    "os.environ.update({\"HEADAS\":\"/isdc/heasoft-6.16/x86_64-unknown-linux-gnu-libc2.12/\"})\n",
    "scrp=os.popen(\"/isdc/heasoft-6.16/x86_64-unknown-linux-gnu-libc2.12/BUILD_DIR/headas-setup csh\").read().strip()\n",
    "scomm=open(scrp).readlines()\n",
    "os.unlink(scrp)\n",
    "#scomm\n",
    "slist=[a.strip().replace('\"','').split()[1:] for a in scomm]\n",
    "os.environ.update(dict(slist))"
   ]
  },
  {
   "cell_type": "code",
   "execution_count": 12,
   "metadata": {
    "collapsed": false
   },
   "outputs": [],
   "source": [
    "#inicializace SAS - spousti se zatim pri kazdem prikazu\n",
    "os.environ[\"SAS_DIR\"]=\"/isdc/xmmsas_20141104_1833\"\n",
    "sas_init=os.environ[\"SAS_DIR\"]+\"/sas-setup.sh\""
   ]
  },
  {
   "cell_type": "code",
   "execution_count": 14,
   "metadata": {
    "collapsed": false
   },
   "outputs": [],
   "source": [
    "homedir=\"/home/limu/data/agn/3C273/\"\n",
    "sid='0414190501'\n",
    "sid='0159960101'\n",
    "import subprocess as sp\n",
    "os.chdir(homedir+sid)"
   ]
  },
  {
   "cell_type": "code",
   "execution_count": 15,
   "metadata": {
    "collapsed": false
   },
   "outputs": [
    {
     "data": {
      "text/plain": [
       "'0655_0159960101_SCX00000SUM.ASC'"
      ]
     },
     "execution_count": 15,
     "metadata": {},
     "output_type": "execute_result"
    }
   ],
   "source": [
    "sumfile=[a for a in ifile if a[-7:-3]=='SUM.']# or a[-4:]=='SUM.SAS']\n",
    "if len(sumfile)==0:\n",
    "    out=os.popen(\". \"+sas_init+\"; odffix\").readlines()\n",
    "    print(len(out))\n",
    "    sumfile=[a for a in os.listdir(\".\") if a[-7:-3]=='SUM.']\n",
    "sumfile[0]"
   ]
  },
  {
   "cell_type": "markdown",
   "metadata": {},
   "source": [
    "processing\n",
    "-----------------\n",
    "\n",
    "Postup dle http://galaxytea.blogspot.cz/2010/12/xmm-sas.html\n",
    "\n",
    "    export SAS_ODF=$PWD\n",
    "    cifbuild\n",
    "    export SAS_CCF=${SAS_ODF}/ccf.cif\n",
    "    odfingest\n",
    "\n",
    "    epchain\n",
    "    pn-filter #good time filtering\n"
   ]
  },
  {
   "cell_type": "code",
   "execution_count": 16,
   "metadata": {
    "collapsed": false
   },
   "outputs": [],
   "source": [
    "os.environ[\"SAS_ODF\"]=homedir+\"/\"+sid\n",
    "if not (os.path.exists(\"ccf.cif\")):\n",
    "    out=os.popen(\". \"+sas_init+\"; cifbuild\").readlines()\n",
    "os.environ[\"SAS_CCF\"]=os.environ[\"SAS_ODF\"]+\"/ccf.cif\"\n",
    "if len(glob(\"*SUM.SAS\"))==0:\n",
    "    out=os.popen(\". \"+sas_init+\"; odfingest\").readlines()"
   ]
  },
  {
   "cell_type": "code",
   "execution_count": 17,
   "metadata": {
    "collapsed": false
   },
   "outputs": [
    {
     "name": "stdout",
     "output_type": "stream",
     "text": [
      "pn exists\n"
     ]
    }
   ],
   "source": [
    "detype='pn'\n",
    "try:\n",
    "    os.mkdir(detype)\n",
    "    os.chdir(detype)\n",
    "    out=os.popen(\". \"+sas_init+\"; e\"+detype[0]+\"chain\").readlines()\n",
    "except:\n",
    "    print(detype+\" exists\")\n",
    "    os.chdir(detype)"
   ]
  },
  {
   "cell_type": "code",
   "execution_count": 18,
   "metadata": {
    "collapsed": false
   },
   "outputs": [
    {
     "data": {
      "text/plain": [
       "('/home/limu/data/agn/3C273//0159960101/pn/P0159960101PNS005PIEVLI0000.FIT',\n",
       " 3720655)"
      ]
     },
     "execution_count": 18,
     "metadata": {},
     "output_type": "execute_result"
    }
   ],
   "source": [
    "evtfile=glob(os.environ[\"SAS_ODF\"]+\"/\"+detype+\"/*EVLI*\")[-1]\n",
    "events=pyfits.open(evtfile)\n",
    "evtfile,events[1].header[\"NAXIS2\"]"
   ]
  },
  {
   "cell_type": "code",
   "execution_count": null,
   "metadata": {
    "collapsed": false
   },
   "outputs": [],
   "source": [
    "#events[1].header"
   ]
  },
  {
   "cell_type": "code",
   "execution_count": null,
   "metadata": {
    "collapsed": false
   },
   "outputs": [],
   "source": [
    "comm=\"evselect table=\"+os.path.basename(evtfile)+\" withrateset=yes rateset='sel_rate.lc' timecolumn=TIME \"\n",
    "comm+=\"timebinsize=100 maketimecolumn=yes expression='#XMMEA_EP && (PI in [10000:12000]) && (PATTERN<=12)'\"\n",
    "if detype=='mos':comm=comm.replace('EA_EP','EA_EM')\n",
    "#os.popen2(\". \"+sas_init+\"; \"+comm).read()"
   ]
  },
  {
   "cell_type": "code",
   "execution_count": null,
   "metadata": {
    "collapsed": false
   },
   "outputs": [],
   "source": [
    "import subprocess as sp\n",
    "fcomm=\". \"+sas_init+\"; \"+comm\n",
    "#fcomm=\". \"+sas_init+\"; cd \"+os.environ[\"SAS_ODF\"]+\"/pn\"+\";\"+comm\n",
    "rep=sp.Popen(fcomm,shell=True,cwd=os.environ[\"SAS_ODF\"]+\"/\"+detype,bufsize=1024,stdout=sp.PIPE,stderr=sp.PIPE,close_fds=True)"
   ]
  },
  {
   "cell_type": "code",
   "execution_count": null,
   "metadata": {
    "collapsed": false
   },
   "outputs": [],
   "source": [
    "print(rep.stdout.read().decode())"
   ]
  },
  {
   "cell_type": "code",
   "execution_count": null,
   "metadata": {
    "collapsed": false
   },
   "outputs": [],
   "source": [
    "print(rep.stderr.read())"
   ]
  },
  {
   "cell_type": "code",
   "execution_count": null,
   "metadata": {
    "collapsed": false
   },
   "outputs": [],
   "source": [
    "from matplotlib import pyplot as pl\n",
    "os.chdir(os.environ[\"SAS_ODF\"]+\"/\"+detype)\n",
    "if os.path.exists(\"sel_rate.lc\"):\n",
    "    rate=pyfits.open(\"sel_rate.lc\")\n",
    "x=rate[1].data['TIME']#-events[1].header[\"MJDREF\"]\n",
    "y=rate[1].data['COUNTS']\n",
    "pl.plot(x,y)"
   ]
  },
  {
   "cell_type": "code",
   "execution_count": null,
   "metadata": {
    "collapsed": false
   },
   "outputs": [],
   "source": [
    "rate[2].data"
   ]
  },
  {
   "cell_type": "code",
   "execution_count": null,
   "metadata": {
    "collapsed": false
   },
   "outputs": [],
   "source": [
    "x[0]/86400"
   ]
  },
  {
   "cell_type": "code",
   "execution_count": null,
   "metadata": {
    "collapsed": false
   },
   "outputs": [],
   "source": [
    "cols=pl.hist(y,r_[10:60:2],alpha=0.4)\n",
    "pl.xlabel('rate')\n",
    "\n",
    "cx=(cols[1][:-1]+cols[1][1:])/2.\n",
    "from numpy import median,log,exp,polyval,polyfit\n",
    "csel=abs(cx-median(y))<10\n",
    "cx=cx[csel]\n",
    "cy=cols[0][csel]\n",
    "eids=polyfit(cx,log(cy),2)\n",
    "fcy=exp(polyval(eids,cx))\n",
    "pl.plot(cx,fcy)"
   ]
  },
  {
   "cell_type": "code",
   "execution_count": null,
   "metadata": {
    "collapsed": false
   },
   "outputs": [],
   "source": [
    "cmid=-eids[1]/2./eids[0]\n",
    "from math import sqrt\n",
    "cmin,cmax=cmid-3*sqrt(-1/2./eids[0]),cmid+3*sqrt(-1/2./eids[0])\n",
    "cmin,cmax"
   ]
  },
  {
   "cell_type": "code",
   "execution_count": null,
   "metadata": {
    "collapsed": false
   },
   "outputs": [],
   "source": [
    "lcfile,gtifile=\"sel_rate.lc\",\"sel_reg.gti\"\n",
    "sevtfile=detype+\"_events_filt.fits\"\n",
    "comm=\"tabgtigen table=\"+lcfile+\" gtiset=\"+gtifile+\" expression=COUNTS.gt.%.3f.and.COUNTS.lt.%.3f\"%(cmin,cmax)\n",
    "comm+=\";evselect table=\"+evtfile+\" withfilteredset=true destruct=yes keepfilteroutput=true \"\n",
    "comm+=\"expression=\\\"GTI(\"+gtifile+\",TIME)\\\" filteredset=\"+sevtfile\n",
    "cmopen=lambda fcomm:sp.Popen(\". \"+sas_init+\"; \"+fcomm,shell=True,cwd=os.environ[\"SAS_ODF\"]+\"/\"+detype,bufsize=1024,stdout=sp.PIPE,stderr=sp.PIPE,close_fds=True)\n",
    "if not os.path.exists(gtifile):\n",
    "    rep=cmopen(comm)\n",
    "    out=rep.stdout.readlines()\n",
    "    print(out[-2:])"
   ]
  },
  {
   "cell_type": "code",
   "execution_count": 25,
   "metadata": {
    "collapsed": false
   },
   "outputs": [],
   "source": [
    "cmopen=lambda fcomm:sp.Popen(\". \"+sas_init+\"; \"+fcomm,shell=True,cwd=os.environ[\"SAS_ODF\"]+\"/\"+detype,bufsize=1024,stdout=sp.PIPE,stderr=sp.PIPE,close_fds=True)\n",
    "if comm=='':\n",
    "    rep=cmopen(comm)\n",
    "    out=rep.stdout.readlines()\n",
    "    out[-2:]"
   ]
  },
  {
   "cell_type": "code",
   "execution_count": null,
   "metadata": {
    "collapsed": false
   },
   "outputs": [],
   "source": [
    "import re\n",
    "ex=re.finditer(\"selected (\\d+)\",str(out[-2]))\n",
    "int([e.groups()[0] for e in ex][0])/float(events[1].header[\"NAXIS2\"])"
   ]
  },
  {
   "cell_type": "markdown",
   "metadata": {},
   "source": [
    "tvorba spektra\n",
    "------------------------------"
   ]
  },
  {
   "cell_type": "code",
   "execution_count": null,
   "metadata": {
    "collapsed": false
   },
   "outputs": [],
   "source": [
    "imafile=\"ima2_view.fits\"\n",
    "binsize=10\n",
    "comm=\"evselect table=\"+sevtfile+\" withimageset=true xcolumn=DETX ycolumn=DETY imageset=\"+imafile#+selexpr\n",
    "comm+=\" ximagebinsize=%i yimagebinsize=%i \"%(binsize,binsize)\n",
    "if not os.path.exists(imafile):\n",
    "    out=cmopen(comm).stdout.readlines()[1:]"
   ]
  },
  {
   "cell_type": "code",
   "execution_count": null,
   "metadata": {
    "collapsed": false
   },
   "outputs": [],
   "source": [
    "os.chdir(os.environ[\"SAS_ODF\"]+\"/\"+detype)\n",
    "idat=pyfits.open(imafile)[0].data\n",
    "isel=idat[0:400,:]\n",
    "pl.imshow(log(isel+1),origin='lower')"
   ]
  },
  {
   "cell_type": "code",
   "execution_count": null,
   "metadata": {
    "collapsed": false
   },
   "outputs": [],
   "source": [
    "pl.plot((isel.mean(0)+1))\n",
    "xtop=argmax(isel.mean(0))\n",
    "xtop"
   ]
  },
  {
   "cell_type": "code",
   "execution_count": null,
   "metadata": {
    "collapsed": false
   },
   "outputs": [],
   "source": [
    "pl.plot(log(isel.mean(1)+1))\n",
    "ytop=argmax(isel.mean(1))\n",
    "ytop"
   ]
  },
  {
   "cell_type": "code",
   "execution_count": null,
   "metadata": {
    "collapsed": false
   },
   "outputs": [],
   "source": [
    "xtop*binsize,ytop*binsize"
   ]
  },
  {
   "cell_type": "code",
   "execution_count": null,
   "metadata": {
    "collapsed": false
   },
   "outputs": [],
   "source": [
    "from astropy import wcs\n",
    "w=wcs.WCS(str(pyfits.open(imafile)[0].header))\n",
    "ximg,yimg=w.wcs_pix2world([[xtop,ytop]],1)[0]\n",
    "ximg,yimg"
   ]
  },
  {
   "cell_type": "code",
   "execution_count": null,
   "metadata": {
    "collapsed": false
   },
   "outputs": [],
   "source": [
    "pl.hist(dd['DETY'],30)"
   ]
  },
  {
   "cell_type": "markdown",
   "metadata": {},
   "source": [
    "#### test tvorby obrazku "
   ]
  },
  {
   "cell_type": "code",
   "execution_count": null,
   "metadata": {
    "collapsed": false
   },
   "outputs": [],
   "source": [
    "rad=10\n",
    "nevt=pyfits.open(sevtfile)\n",
    "dd=nevt[1].data\n",
    "sel1=abs(dd['DETX']-ximg)<rad*10\n",
    "sel2=abs(dd['DETY']-yimg)<rad*10\n",
    "sum(sel1*sel2)"
   ]
  },
  {
   "cell_type": "code",
   "execution_count": null,
   "metadata": {
    "collapsed": false
   },
   "outputs": [],
   "source": [
    "ook=pl.hist2d(dd['DETX'],dd['DETY'],[100,100])"
   ]
  },
  {
   "cell_type": "code",
   "execution_count": null,
   "metadata": {
    "collapsed": false
   },
   "outputs": [],
   "source": [
    "idat.shape"
   ]
  },
  {
   "cell_type": "markdown",
   "metadata": {},
   "source": [
    "### ted spektrum"
   ]
  },
  {
   "cell_type": "code",
   "execution_count": 22,
   "metadata": {
    "collapsed": true
   },
   "outputs": [],
   "source": [
    "# shortcut if skipping some steps\n",
    "specfile=\"agn_spec.pha\"\n",
    "sevtfile=detype+\"_events_filt.fits\"\n",
    "if os.path.exists(specfile):\n",
    "    dd=pyfits.open(specfile)\n",
    "    ximg,yimg=dd[3].data[0][1:3]"
   ]
  },
  {
   "cell_type": "code",
   "execution_count": 26,
   "metadata": {
    "collapsed": false
   },
   "outputs": [
    {
     "name": "stdout",
     "output_type": "stream",
     "text": [
      "['evselect:- evselect (evselect-3.62)  [xmmsas_20141104_1833-14.0.0] started:  2015-03-10T11:54:30.000', 'evselect:- selected 975559 rows from the input table.', 'evselect:- evselect (evselect-3.62)  [xmmsas_20141104_1833-14.0.0] ended:    2015-03-10T11:54:33.000', '']\n"
     ]
    }
   ],
   "source": [
    "\n",
    "maxchannels={'pn':11999,'mos':20479}\n",
    "rad=11\n",
    "selexpr=\" expression='(FLAG==0) && (PATTERN<=12) && (PI in [300:12000]) && ((DETX,DETY) IN circle(%i,%i,%i))'\"%(ximg,yimg,rad*10)\n",
    "sevtfile=sevtfile.replace(\"mos_\",\"mos1_\")\n",
    "#specfile=\"agn_spec.pha\"\n",
    "if os.path.exists(specfile): os.unlink(specfile)\n",
    "comm=\"evselect table=\"+sevtfile+\" withspectrumset=true withspecranges=true \"\n",
    "comm+=\"energycolumn=PI specchannelmin=0 specchannelmax=%i spectralbinsize=15 updateexposure=yes \"%(maxchannels[detype])\n",
    "srcomm=comm+\"spectrumset=\"+specfile+selexpr\n",
    "if True or not os.path.exists(specfile):\n",
    "    rep=cmopen(srcomm)\n",
    "    out=rep.stdout.read()\n",
    "    print(out.decode().split('\\n')[1:])"
   ]
  },
  {
   "cell_type": "code",
   "execution_count": 27,
   "metadata": {
    "collapsed": false,
    "scrolled": true
   },
   "outputs": [
    {
     "name": "stdout",
     "output_type": "stream",
     "text": [
      "evselect:- evselect (evselect-3.62)  [xmmsas_20141104_1833-14.0.0] started:  2015-03-10T11:54:35.000\n",
      "evselect:- selected 29704 rows from the input table.\n",
      "evselect:- evselect (evselect-3.62)  [xmmsas_20141104_1833-14.0.0] ended:    2015-03-10T11:54:36.000\n",
      "\n"
     ]
    }
   ],
   "source": [
    "#selexpr2=\" ((DETX,DETY) IN circle(%i,%i,%i))'\"%(xtop,450,rad*3)\n",
    "selexpr2=\" expression='circle(%i,%i,%i,DETX,DETY)'\"%(0,2000,rad*60)\n",
    "bgcomm=comm+\"spectrumset=\"+specfile.replace(\"agn\",\"bkg\")+selexpr2#\" filteredset=\"+sevtfile+\" withfilteredset=yes\"\n",
    "rep=cmopen(bgcomm)\n",
    "out=rep.stdout.read()\n",
    "#print('\\n'.join([a for a in out.decode().split()[4:] if a.find('filter')>=0]))\n",
    "print('\\n'.join(out.decode().split('\\n')[1:]))"
   ]
  },
  {
   "cell_type": "code",
   "execution_count": 40,
   "metadata": {
    "collapsed": false
   },
   "outputs": [
    {
     "data": {
      "text/plain": [
       "3141"
      ]
     },
     "execution_count": 40,
     "metadata": {},
     "output_type": "execute_result"
    }
   ],
   "source": [
    "dd['DETX'].max()"
   ]
  },
  {
   "cell_type": "code",
   "execution_count": 24,
   "metadata": {
    "collapsed": false
   },
   "outputs": [
    {
     "data": {
      "text/plain": [
       "(172.5, -50.5)"
      ]
     },
     "execution_count": 24,
     "metadata": {},
     "output_type": "execute_result"
    }
   ],
   "source": [
    "ximg,yimg=w.wcs_pix2world([[ytop,xtop]],1)[0]\n",
    "ximg,yimg"
   ]
  },
  {
   "cell_type": "code",
   "execution_count": 34,
   "metadata": {
    "collapsed": true
   },
   "outputs": [],
   "source": [
    "out=rep.stdout.read()"
   ]
  },
  {
   "cell_type": "code",
   "execution_count": 44,
   "metadata": {
    "collapsed": false
   },
   "outputs": [
    {
     "data": {
      "text/plain": [
       "(975559, 29598)"
      ]
     },
     "execution_count": 44,
     "metadata": {},
     "output_type": "execute_result"
    }
   ],
   "source": [
    "spc=pyfits.open(specfile)\n",
    "bkgspc=pyfits.open(specfile.replace(\"agn\",\"bkg\"))\n",
    "spc[1].data['COUNTS'].sum(),bkgspc[1].data['COUNTS'].sum()"
   ]
  },
  {
   "cell_type": "code",
   "execution_count": 45,
   "metadata": {
    "collapsed": false
   },
   "outputs": [
    {
     "data": {
      "text/plain": [
       "[b'rmfgen:- rmfgen (rmfgen-2.2.1)  [xmmsas_20141104_1833-14.0.0] started:  2015-03-09T15:40:41.000\\n',\n",
       " b'rmfgen:- Opening spectrumset agn_spec.pha...\\n',\n",
       " b'rmfgen:- Closing spectrumset agn_spec.pha.\\n',\n",
       " b'rmfgen:- Computing source position from region extent..\\n',\n",
       " b'rmfgen:- Using a source position in DET coordinates of x=172 y=-50\\n',\n",
       " b'rmfgen:-  The source position in focal plane coords is  theta=59.6422 phi=3.5129\\n',\n",
       " b'rmfgen:- Computing detector map bounds from the region selection information stored in the spectrum ...\\n',\n",
       " b'rmfgen:- detector map binning will be: xbins: 160 ybins: 160\\n',\n",
       " b'rmfgen:- Constructing a psf detector map with  xmin=62 xmax=282 xbins=160 ymin=-160 ymax=60 ybins=160\\n',\n",
       " b'rmfgen:- PSF type: 2 [EXTENDED] will be used\\n',\n",
       " b'rmfgen:-  Creating RmfDataServer...\\n',\n",
       " b'rmfgen:-  EventGrades:5 PrimeSmallWindow 36 \\n',\n",
       " b'rmfgen:-  RmfDataServer created ok.\\n',\n",
       " b'rmfgen:- Opening data set ...\\n',\n",
       " b'rmfgen:- Opened data set.\\n',\n",
       " b'rmfgen:- Adding MATRIX table. There will be 2067 rows in table \\n',\n",
       " b'rmfgen:- Initialising table iterator ..\\n',\n",
       " b'rmfgen:- Populating table ..\\n',\n",
       " b'rmfgen:- Adding EBOUNDS extension ... \\n',\n",
       " b'rmfgen:-  Cleanup ... \\n',\n",
       " b'rmfgen:-  Closing data set ... \\n',\n",
       " b'rmfgen:-  Closed data set.\\n',\n",
       " b'rmfgen:-  Cleanup complete. \\n',\n",
       " b'rmfgen:- rmfgen (rmfgen-2.2.1)  [xmmsas_20141104_1833-14.0.0] ended:    2015-03-09T15:41:10.000\\n']"
      ]
     },
     "execution_count": 45,
     "metadata": {},
     "output_type": "execute_result"
    }
   ],
   "source": [
    "specfile=\"agn_spec.pha\"\n",
    "spcomm=\"extendedsource=no badpixlocation=\"+sevtfile+\" detmaptype=psf \"\n",
    "#dataset detmaparray=\"+detmap\n",
    "rmcomm=\"rmfgen spectrumset=\"+specfile+\" rmfset=spec.rmf \"+spcomm\n",
    "arcomm=\"arfgen spectrumset=\"+specfile+\" arfset=spec.arf withrmfset=yes rmfset=spec.rmf \"+spcomm\n",
    "out=cmopen(rmcomm).stdout.readlines()[1:]\n",
    "out"
   ]
  },
  {
   "cell_type": "code",
   "execution_count": 46,
   "metadata": {
    "collapsed": false
   },
   "outputs": [
    {
     "data": {
      "text/plain": [
       "[b'arfgen:- arfgen (arfgen-1.90.4)  [xmmsas_20141104_1833-14.0.0] started:  2015-03-09T15:42:27.000\\n',\n",
       " b'arfgen:- Opening spectrumset agn_spec.pha...\\n',\n",
       " b'arfgen:- Closing spectrumset agn_spec.pha.\\n',\n",
       " b'arfgen:- Computing source position from region extent..\\n',\n",
       " b'arfgen:- Using a source position in DET coordinates of x=172 y=-50\\n',\n",
       " b'arfgen:-  The source position in focal plane coords is  theta=59.6422 phi=3.5129\\n',\n",
       " b'arfgen:- Computing detector map bounds from the region selection information stored in the spectrum ...\\n',\n",
       " b'arfgen:- detector map binning will be: xbins: 5 ybins: 5\\n',\n",
       " b'arfgen:- Constructing a psf detector map with  xmin=62 xmax=282 xbins=5 ymin=-160 ymax=60 ybins=5\\n',\n",
       " b'arfgen:- PSF type: 3 [ELLBETA] will be used\\n',\n",
       " b'arfgen:- Opening arfset spec.arf...\\n',\n",
       " b'arfgen:- WCS info for the columns temp_badcol_arfgen.del:BADPIX04:RAWX and temp_badcol_arfgen.del:BADPIX04:RAWX is either non-existent or incomplete. Assuming a 1:1 mapping\\n',\n",
       " b'arfgen:- Writing energy data into dataset .. \\n',\n",
       " b'arfgen:- Calculating Area curve ...\\n',\n",
       " b'arfgen:- Calculating Area curve ...50.4999999 2067 15997.49947\\n',\n",
       " b'arfgen:- Bad pixel & chip gap fraction: ~0 %\\n',\n",
       " b'arfgen:- Writing area data into dataset .. \\n',\n",
       " b'arfgen:- Closing arfset spec.arf.\\n',\n",
       " b'arfgen:- arfgen (arfgen-1.90.4)  [xmmsas_20141104_1833-14.0.0] ended:    2015-03-09T15:42:31.000\\n']"
      ]
     },
     "execution_count": 46,
     "metadata": {},
     "output_type": "execute_result"
    }
   ],
   "source": [
    "out=cmopen(arcomm).stdout.readlines()[1:]\n",
    "out"
   ]
  },
  {
   "cell_type": "code",
   "execution_count": 30,
   "metadata": {
    "collapsed": false
   },
   "outputs": [
    {
     "data": {
      "text/plain": [
       "'rmfgen spectrumset=agn_spec.pha rmfset=spec.rmf extendedsource=no badpixlocation=mos_events_filt.fits detmaptype=psf '"
      ]
     },
     "execution_count": 30,
     "metadata": {},
     "output_type": "execute_result"
    }
   ],
   "source": [
    "rmcomm"
   ]
  },
  {
   "cell_type": "code",
   "execution_count": 67,
   "metadata": {
    "collapsed": false
   },
   "outputs": [],
   "source": [
    "#print(''.join([o.decode() for o in out]))\n",
    "regcond=\"CIRCLE(354,383,84,DETX,DETY)\""
   ]
  },
  {
   "cell_type": "code",
   "execution_count": 47,
   "metadata": {
    "collapsed": false
   },
   "outputs": [
    {
     "data": {
      "text/plain": [
       "[b'backscale:- backscale (backscale-1.4.2)  [xmmsas_20141104_1833-14.0.0] started:  2015-03-09T15:42:57.000\\n',\n",
       " b\"backscale:- Executing (routine): arfgen spectrumset=agn_spec.pha rmfset=response.ds withrmfset=no arfset=deletearf.ds detmaptype=flat detmaparray=detmapfile.ds: detxoffset=1200 detyoffset=1200 withdetbounds=no detxbins=1 detybins=1 withdetbins=yes psfenergy=2 filterdss=yes filteredset=filteredpixellist.ds withfilteredset=no sourcecoords=eqpos sourcex=0 sourcey=0 withsourcepos=no extendedsource=yes modeleffarea=no modelquantumeff=no modelfiltertrans=no modelcontamination=yes modelee=no modelootcorr=yes applyxcaladjustment=no eegridfactor=100 withbadpixcorr=yes badpixlocation=pn_events_filt.fits psfmodel=ELLBETA badpixelresolution=2 withbadpixres=no setbackscale=yes keeparfset=no useodfatt=no ignoreoutoffov=yes crossreg_spectrumset='' crossregionarf=no  -w 1 -V 4\\n\",\n",
       " b'backscale:- arfgen (arfgen-1.90.4)  [xmmsas_20141104_1833-14.0.0] started:  2015-03-09T15:42:57.000\\n',\n",
       " b'backscale::arfgen:- Opening spectrumset agn_spec.pha...\\n',\n",
       " b'backscale::arfgen:- Closing spectrumset agn_spec.pha.\\n',\n",
       " b'backscale::arfgen:- Computing source position from region extent..\\n',\n",
       " b'backscale::arfgen:- Using a source position in DET coordinates of x=172 y=-50\\n',\n",
       " b'backscale::arfgen:-  The source position in focal plane coords is  theta=59.6422 phi=3.5129\\n',\n",
       " b'backscale::arfgen:- Computing detector map bounds from the region selection information stored in the spectrum ...\\n',\n",
       " b'backscale::arfgen:- detector map binning will be: xbins: 1 ybins: 1\\n',\n",
       " b'backscale::arfgen:- Constructing a flat detector map with  xmin=62 xmax=282 xbins=1 ymin=-160 ymax=60 ybins=1\\n',\n",
       " b'backscale::arfgen:- Opening arfset deletearf.ds...\\n',\n",
       " b'backscale::arfgen:- WCS info for the columns temp_badcol_arfgen.del:BADPIX04:RAWX and temp_badcol_arfgen.del:BADPIX04:RAWX is either non-existent or incomplete. Assuming a 1:1 mapping\\n',\n",
       " b'backscale::arfgen:- Writing energy data into dataset .. \\n',\n",
       " b'backscale::arfgen:- Calculating Area curve ...\\n',\n",
       " b'backscale::arfgen:- Calculating Area curve ...50.5 2067 15997.5\\n',\n",
       " b'backscale::arfgen:- Bad pixel & chip gap fraction: ~0 %\\n',\n",
       " b'backscale::arfgen:- Writing area data into dataset .. \\n',\n",
       " b'backscale::arfgen:- Closing arfset deletearf.ds.\\n',\n",
       " b'backscale::arfgen:- Opening spectrumset agn_spec.pha...\\n',\n",
       " b'backscale::arfgen:- Opened spectrumset agn_spec.pha...\\n',\n",
       " b'backscale::arfgen:- Opened table agn_spec.pha...\\n',\n",
       " b'backscale::arfgen:- current backscale value is: 1\\n',\n",
       " b'backscale::arfgen:- deleted attagn_spec.pha...\\n',\n",
       " b'backscale::arfgen:- Backscale value is: 38400\\n',\n",
       " b'backscale::arfgen:- added attagn_spec.pha...\\n',\n",
       " b'backscale::arfgen:- closed specagn_spec.pha...\\n',\n",
       " b'backscale:- arfgen (arfgen-1.90.4)  [xmmsas_20141104_1833-14.0.0] ended:    2015-03-09T15:42:58.000\\n',\n",
       " b'backscale:- backscale (backscale-1.4.2)  [xmmsas_20141104_1833-14.0.0] ended:    2015-03-09T15:42:58.000\\n']"
      ]
     },
     "execution_count": 47,
     "metadata": {},
     "output_type": "execute_result"
    }
   ],
   "source": [
    "comm='backscale spectrumset='+specfile+' badpixlocation='+sevtfile\n",
    "out=cmopen(comm).stdout.readlines()[1:]\n",
    "out"
   ]
  },
  {
   "cell_type": "code",
   "execution_count": 28,
   "metadata": {
    "collapsed": false
   },
   "outputs": [
    {
     "data": {
      "text/plain": [
       "[b'specgroup:- specgroup (specgroup-1.5)  [xmmsas_20141104_1833-14.0.0] started:  2015-03-10T11:55:02.000\\n',\n",
       " b'specgroup:- Prepared spectrum agn_grpspec.pha with 162 groups\\n',\n",
       " b'specgroup:- specgroup (specgroup-1.5)  [xmmsas_20141104_1833-14.0.0] ended:    2015-03-10T11:55:02.000\\n']"
      ]
     },
     "execution_count": 28,
     "metadata": {},
     "output_type": "execute_result"
    }
   ],
   "source": [
    "comm=\"specgroup spectrumset=\"+specfile+\" mincounts=25 oversample=3 rmfset=spec.rmf \"\n",
    "comm+=\"arfset=spec.arf backgndset=\"+specfile.replace(\"agn\",\"bkg\")+\" groupedset=\"+specfile.replace(\"spec\",\"grpspec\")\n",
    "out=cmopen(comm).stdout.readlines()[1:]\n",
    "out"
   ]
  },
  {
   "cell_type": "markdown",
   "metadata": {},
   "source": [
    "### pileup check\n",
    "\n",
    "podle navodu [zde](http://xmm.esac.esa.int/sas/current/documentation/threads/epatplot.shtml)"
   ]
  },
  {
   "cell_type": "code",
   "execution_count": 52,
   "metadata": {
    "collapsed": false
   },
   "outputs": [
    {
     "ename": "TypeError",
     "evalue": "can't concat bytes to int",
     "output_type": "error",
     "traceback": [
      "\u001b[1;31m---------------------------------------------------------------------------\u001b[0m",
      "\u001b[1;31mTypeError\u001b[0m                                 Traceback (most recent call last)",
      "\u001b[1;32m<ipython-input-52-f82e14d06274>\u001b[0m in \u001b[0;36m<module>\u001b[1;34m()\u001b[0m\n\u001b[0;32m      2\u001b[0m \u001b[0mout\u001b[0m\u001b[1;33m=\u001b[0m\u001b[0mcmopen\u001b[0m\u001b[1;33m(\u001b[0m\u001b[0mcomm\u001b[0m\u001b[1;33m)\u001b[0m\u001b[1;33m.\u001b[0m\u001b[0mstdout\u001b[0m\u001b[1;33m.\u001b[0m\u001b[0mreadlines\u001b[0m\u001b[1;33m(\u001b[0m\u001b[1;33m)\u001b[0m\u001b[1;33m[\u001b[0m\u001b[1;36m1\u001b[0m\u001b[1;33m:\u001b[0m\u001b[1;33m]\u001b[0m\u001b[1;33m\u001b[0m\u001b[0m\n\u001b[0;32m      3\u001b[0m \u001b[0mrlin\u001b[0m\u001b[1;33m=\u001b[0m\u001b[0mout\u001b[0m\u001b[1;31m#[i for i in range(len(out)) if out[i].find(\"fractions\")]\u001b[0m\u001b[1;33m\u001b[0m\u001b[0m\n\u001b[1;32m----> 4\u001b[1;33m \u001b[0mout\u001b[0m\u001b[1;33m[\u001b[0m\u001b[0mrlin\u001b[0m\u001b[1;33m[\u001b[0m\u001b[1;33m-\u001b[0m\u001b[1;36m1\u001b[0m\u001b[1;33m]\u001b[0m\u001b[1;33m+\u001b[0m\u001b[1;36m1\u001b[0m\u001b[1;33m]\u001b[0m\u001b[1;33m\u001b[0m\u001b[0m\n\u001b[0m",
      "\u001b[1;31mTypeError\u001b[0m: can't concat bytes to int"
     ]
    }
   ],
   "source": [
    "comm=\"epatplot set=\"+sevtfile+\" plotfile='\"+detype+\"_filtered_pat.gif' device='/GIF' withqdp='y'\"\n",
    "out=cmopen(comm).stdout.readlines()[1:]\n",
    "rlin=[len(out)-2]#[i for i in range(len(out)) if out[i].find(\"fractions\")]\n",
    "out[rlin[-1]+1]"
   ]
  },
  {
   "cell_type": "markdown",
   "metadata": {},
   "source": [
    "vystup `epatplot`  \n",
    "\n",
    "!mos_filtered_pat.gif  :  nefunguje jako static file server :-("
   ]
  },
  {
   "cell_type": "code",
   "execution_count": 55,
   "metadata": {
    "collapsed": false
   },
   "outputs": [
    {
     "data": {
      "image/png": "[encoded data removed]",
      "text/plain": [
       "<IPython.core.display.Image object>"
      ]
     },
     "execution_count": 55,
     "metadata": {},
     "output_type": "execute_result"
    }
   ],
   "source": [
    "from IPython.display import Image\n",
    "from PIL import Image as pim\n",
    "imp=pim.open(os.environ[\"SAS_ODF\"]+\"/\"+detype+\"/\"+detype+\"_filtered_pat.gif\")\n",
    "#imp=imp.convert('RGB').convert('P', palette=pim.ADAPTIVE)\n",
    "#bgp = pim.new(\"RGB\", imp.size, (255,255,255))\n",
    "#bgp.paste(imp,imp)\n",
    "ofile=os.environ[\"SAS_ODF\"]+\"/\"+detype+\"/\"+detype+\"_filtered_pat.png\"\n",
    "imp.save(ofile)\n",
    "Image(filename=ofile)\n"
   ]
  },
  {
   "cell_type": "markdown",
   "metadata": {},
   "source": [
    "analyza\n",
    "--------------"
   ]
  },
  {
   "cell_type": "code",
   "execution_count": 26,
   "metadata": {
    "collapsed": false
   },
   "outputs": [],
   "source": [
    "#sys.path.append(os.environ['HEADAS']+\"/lib/python\")\n",
    "#del sys.path[-1]\n",
    "#sys.path.append('/isdc/heasoft-6.16/Xspec/x86_64-unknown-linux-gnu-libc2.12/lib/python')\n",
    "\n",
    "\n",
    "#import xspec as xs\n"
   ]
  }
 ],
 "metadata": {
  "kernelspec": {
   "display_name": "Python 3",
   "language": "python",
   "name": "python3"
  },
  "language_info": {
   "codemirror_mode": {
    "name": "ipython",
    "version": 3
   },
   "file_extension": ".py",
   "mimetype": "text/x-python",
   "name": "python",
   "nbconvert_exporter": "python",
   "pygments_lexer": "ipython3",
   "version": "3.3.2"
  }
 },
 "nbformat": 4,
 "nbformat_minor": 0
}
