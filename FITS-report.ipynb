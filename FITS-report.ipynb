{
 "cells": [
  {
   "cell_type": "code",
   "execution_count": 2,
   "metadata": {
    "collapsed": true
   },
   "outputs": [],
   "source": [
    "import os\n",
    "from glob import glob\n",
    "import pyfits"
   ]
  },
  {
   "cell_type": "code",
   "execution_count": 3,
   "metadata": {
    "collapsed": false
   },
   "outputs": [
    {
     "data": {
      "text/plain": [
       "38"
      ]
     },
     "execution_count": 3,
     "metadata": {},
     "output_type": "execute_result"
    }
   ],
   "source": [
    "os.chdir(\"/home/data/sandbox/3C273_all/\")\n",
    "ilist=glob(\"0*\")\n",
    "len(ilist)"
   ]
  },
  {
   "cell_type": "code",
   "execution_count": 8,
   "metadata": {
    "collapsed": false
   },
   "outputs": [],
   "source": [
    "ilist.sort()"
   ]
  },
  {
   "cell_type": "code",
   "execution_count": 10,
   "metadata": {
    "collapsed": false
   },
   "outputs": [
    {
     "data": {
      "text/plain": [
       "(25, 33)"
      ]
     },
     "execution_count": 10,
     "metadata": {},
     "output_type": "execute_result"
    }
   ],
   "source": [
    "pnlist=[d for d in ilist if os.path.exists(d+'/odf/pn')]\n",
    "moslist=[d for d in ilist if os.path.exists(d+'/odf/mos')]\n",
    "len(pnlist),len(moslist)"
   ]
  },
  {
   "cell_type": "code",
   "execution_count": 13,
   "metadata": {
    "collapsed": false
   },
   "outputs": [
    {
     "data": {
      "text/plain": [
       "['0370_0112770101_EPN_S001_ImagingEvts.ds',\n",
       " '0370_0112770101_EPN_S001_04_Badpixels.ds',\n",
       " '0370_0112770101_AttHk.ds']"
      ]
     },
     "execution_count": 13,
     "metadata": {},
     "output_type": "execute_result"
    }
   ],
   "source": [
    "os.listdir(\"0112770101/odf/pn\")"
   ]
  },
  {
   "cell_type": "code",
   "execution_count": 14,
   "metadata": {
    "collapsed": false
   },
   "outputs": [
    {
     "data": {
      "text/plain": [
       "(array([ 2,  0, 18,  7,  4,  0,  1,  0,  1]),\n",
       " array([0, 1, 2, 3, 4, 5, 6, 7, 8, 9]))"
      ]
     },
     "execution_count": 14,
     "metadata": {},
     "output_type": "execute_result"
    }
   ],
   "source": [
    "pnevts=[glob(d+'/odf/pn/*ingEvts.ds') for d in pnlist]\n",
    "mosevts=[glob(d+'/odf/mos/*ingEvts.ds') for d in moslist]\n",
    "nmax=max([len(a) for a in mosevts])\n",
    "from numpy import histogram,r_\n",
    "histogram([len(a) for a in mosevts],r_[:nmax+1])"
   ]
  },
  {
   "cell_type": "code",
   "execution_count": 22,
   "metadata": {
    "collapsed": false
   },
   "outputs": [
    {
     "data": {
      "text/plain": [
       "array([  3.        ,   4.16666667,   5.33333333,   6.5       ,\n",
       "         7.66666667,   8.83333333,  10.        ])"
      ]
     },
     "execution_count": 22,
     "metadata": {},
     "output_type": "execute_result"
    }
   ],
   "source": []
  },
  {
   "cell_type": "code",
   "execution_count": 27,
   "metadata": {
    "collapsed": false
   },
   "outputs": [
    {
     "data": {
      "text/plain": [
       "(array([22]),)"
      ]
     },
     "execution_count": 27,
     "metadata": {},
     "output_type": "execute_result"
    }
   ],
   "source": [
    "acnt=r_[[len(a) for a in mosevts]]\n",
    "from numpy import where\n",
    "where(acnt==9)"
   ]
  },
  {
   "cell_type": "code",
   "execution_count": 33,
   "metadata": {
    "collapsed": false
   },
   "outputs": [
    {
     "data": {
      "text/plain": [
       "array(['0126700101', '0126700401', '0136550101', '0136550801'], \n",
       "      dtype='<U10')"
      ]
     },
     "execution_count": 33,
     "metadata": {},
     "output_type": "execute_result"
    }
   ],
   "source": [
    "from numpy import array\n",
    "acnt=array([len(a) for a in mosevts])\n",
    "alist=array(moslist)\n",
    "alist[acnt==4]"
   ]
  },
  {
   "cell_type": "code",
   "execution_count": 32,
   "metadata": {
    "collapsed": false
   },
   "outputs": [
    {
     "data": {
      "text/plain": [
       "['0126700101', '0126700401', '0136550101', '0136550801']"
      ]
     },
     "execution_count": 32,
     "metadata": {},
     "output_type": "execute_result"
    }
   ],
   "source": [
    "[moslist[i] for i in where(acnt==4)[0]]"
   ]
  },
  {
   "cell_type": "code",
   "execution_count": 35,
   "metadata": {
    "collapsed": false
   },
   "outputs": [
    {
     "data": {
      "text/plain": [
       "array([ 9, 12, 17, 20])"
      ]
     },
     "execution_count": 35,
     "metadata": {},
     "output_type": "execute_result"
    }
   ],
   "source": [
    "r_[:len(moslist)][acnt==4]"
   ]
  },
  {
   "cell_type": "code",
   "execution_count": 38,
   "metadata": {
    "collapsed": false
   },
   "outputs": [
    {
     "data": {
      "text/plain": [
       "['0112770101/odf/mos/0370_0112770101_EMOS2_S003_ImagingEvts.ds',\n",
       " '0112770101/odf/mos/0370_0112770101_EMOS1_S002_TimingEvts.ds',\n",
       " '0112770101/odf/mos/0370_0112770101_EMOS1_S002_ImagingEvts.ds']"
      ]
     },
     "execution_count": 38,
     "metadata": {},
     "output_type": "execute_result"
    }
   ],
   "source": [
    "mosevts[r_[:len(acnt)][acnt==3][0]]"
   ]
  },
  {
   "cell_type": "code",
   "execution_count": 39,
   "metadata": {
    "collapsed": false
   },
   "outputs": [
    {
     "data": {
      "text/plain": [
       "[1549, 3403, 1605, 3912, 5318, 1546, 3735, 1215, 1642]"
      ]
     },
     "execution_count": 39,
     "metadata": {},
     "output_type": "execute_result"
    }
   ],
   "source": [
    "selevts=mosevts[r_[:len(acnt)][acnt==9][0]]\n",
    "[os.path.getsize(m)//2**10 for m in selevts]"
   ]
  },
  {
   "cell_type": "code",
   "execution_count": 41,
   "metadata": {
    "collapsed": false
   },
   "outputs": [
    {
     "data": {
      "text/plain": [
       "['0137551001/odf/mos/0382_0137551001_EMOS2_U008_ImagingEvts.ds',\n",
       " '0137551001/odf/mos/0382_0137551001_EMOS2_U005_ImagingEvts.ds',\n",
       " '0137551001/odf/mos/0382_0137551001_EMOS1_U004_ImagingEvts.ds',\n",
       " '0137551001/odf/mos/0382_0137551001_EMOS1_U007_ImagingEvts.ds',\n",
       " '0137551001/odf/mos/0382_0137551001_EMOS1_U008_ImagingEvts.ds',\n",
       " '0137551001/odf/mos/0382_0137551001_EMOS2_U007_ImagingEvts.ds',\n",
       " '0137551001/odf/mos/0382_0137551001_EMOS2_U004_ImagingEvts.ds']"
      ]
     },
     "execution_count": 41,
     "metadata": {},
     "output_type": "execute_result"
    }
   ],
   "source": [
    "[s for s in selevts if s.find(\"Imaging\")>=0]"
   ]
  },
  {
   "cell_type": "code",
   "execution_count": 43,
   "metadata": {
    "collapsed": false
   },
   "outputs": [
    {
     "data": {
      "text/plain": [
       "[<pyfits.hdu.image.PrimaryHDU at 0x7fa4e0084c90>,\n",
       " <pyfits.hdu.table.BinTableHDU at 0x7fa4e0035c50>,\n",
       " <pyfits.hdu.table.BinTableHDU at 0x7fa4e0044390>,\n",
       " <pyfits.hdu.table.BinTableHDU at 0x7fa4d29e2490>,\n",
       " <pyfits.hdu.table.BinTableHDU at 0x7fa4d29e9e50>,\n",
       " <pyfits.hdu.table.BinTableHDU at 0x7fa4d29f6f90>,\n",
       " <pyfits.hdu.table.BinTableHDU at 0x7fa4d2a029d0>,\n",
       " <pyfits.hdu.table.BinTableHDU at 0x7fa4d2a0fb10>,\n",
       " <pyfits.hdu.table.BinTableHDU at 0x7fa4d2a1a550>,\n",
       " <pyfits.hdu.table.BinTableHDU at 0x7fa4d29a7690>,\n",
       " <pyfits.hdu.table.BinTableHDU at 0x7fa4d29b30d0>,\n",
       " <pyfits.hdu.table.BinTableHDU at 0x7fa4d29c0210>,\n",
       " <pyfits.hdu.table.BinTableHDU at 0x7fa4d29c7c10>,\n",
       " <pyfits.hdu.table.BinTableHDU at 0x7fa4e0084250>,\n",
       " <pyfits.hdu.table.BinTableHDU at 0x7fa4d295d550>,\n",
       " <pyfits.hdu.table.BinTableHDU at 0x7fa4d2969690>,\n",
       " <pyfits.hdu.table.BinTableHDU at 0x7fa4d29740d0>,\n",
       " <pyfits.hdu.table.BinTableHDU at 0x7fa4d2979750>,\n",
       " <pyfits.hdu.table.BinTableHDU at 0x7fa4d297f9d0>,\n",
       " <pyfits.hdu.table.BinTableHDU at 0x7fa4d2987210>,\n",
       " <pyfits.hdu.table.BinTableHDU at 0x7fa4d298ba10>,\n",
       " <pyfits.hdu.table.BinTableHDU at 0x7fa4d2996250>,\n",
       " <pyfits.hdu.table.BinTableHDU at 0x7fa4d291ba50>,\n",
       " <pyfits.hdu.table.BinTableHDU at 0x7fa4d2924290>,\n",
       " <pyfits.hdu.table.BinTableHDU at 0x7fa4d2928a90>]"
      ]
     },
     "execution_count": 43,
     "metadata": {},
     "output_type": "execute_result"
    }
   ],
   "source": [
    "selevts=[s for s in selevts if s.find('Imaging')>0]\n",
    "ifi=pyfits.open(selevts[3])\n",
    "ifi"
   ]
  },
  {
   "cell_type": "code",
   "execution_count": 45,
   "metadata": {
    "collapsed": false
   },
   "outputs": [
    {
     "data": {
      "text/plain": [
       "ColDefs(\n",
       "    name = 'TIME'; format = 'D'; unit = 's'\n",
       "    name = 'RAWX'; format = 'I'; unit = 'PIXELS'\n",
       "    name = 'RAWY'; format = 'I'; unit = 'PIXELS'\n",
       "    name = 'DETX'; format = 'I'; unit = 'pixel'\n",
       "    name = 'DETY'; format = 'I'; unit = 'pixel'\n",
       "    name = 'X'; format = 'J'; unit = 'pixel'; null = -99999999\n",
       "    name = 'Y'; format = 'J'; unit = 'pixel'; null = -99999999\n",
       "    name = 'PHA'; format = 'I'; unit = 'CHAN'\n",
       "    name = 'PI'; format = 'I'; unit = 'CHAN'\n",
       "    name = 'FLAG'; format = 'J'\n",
       "    name = 'PATTERN'; format = 'B'\n",
       "    name = 'CCDNR'; format = 'B'\n",
       ")"
      ]
     },
     "execution_count": 45,
     "metadata": {},
     "output_type": "execute_result"
    }
   ],
   "source": [
    "ifi[1].columns"
   ]
  },
  {
   "cell_type": "code",
   "execution_count": 48,
   "metadata": {
    "collapsed": false
   },
   "outputs": [
    {
     "data": {
      "text/plain": [
       "(array([104783,   8834,   2523,   7185,   2559,    264,    281,    270,\n",
       "           289,    354,    226,    280,    339,     41,     16,     31,\n",
       "            27,     35,     28,     24,     18,     29,     23,     30,\n",
       "            19,     31]),\n",
       " array([ 0,  1,  2,  3,  4,  5,  6,  7,  8,  9, 10, 11, 12, 13, 14, 15, 16,\n",
       "        17, 18, 19, 20, 21, 22, 23, 24, 25, 26]))"
      ]
     },
     "execution_count": 48,
     "metadata": {},
     "output_type": "execute_result"
    }
   ],
   "source": [
    "histogram(ifi[1].data['PATTERN'],r_[:27])"
   ]
  },
  {
   "cell_type": "code",
   "execution_count": 52,
   "metadata": {
    "collapsed": false
   },
   "outputs": [
    {
     "data": {
      "text/plain": [
       "0.99726153151961661"
      ]
     },
     "execution_count": 52,
     "metadata": {},
     "output_type": "execute_result"
    }
   ],
   "source": [
    "sum(ifi[1].data['PATTERN']<=12)/float(len(ifi[1].data))"
   ]
  },
  {
   "cell_type": "code",
   "execution_count": 55,
   "metadata": {
    "collapsed": false
   },
   "outputs": [
    {
     "name": "stdout",
     "output_type": "stream",
     "text": [
      "128539\n"
     ]
    }
   ],
   "source": [
    "print(ifi[1].header['NAXIS2'])"
   ]
  },
  {
   "cell_type": "code",
   "execution_count": 60,
   "metadata": {
    "collapsed": false
   },
   "outputs": [
    {
     "data": {
      "text/plain": [
       "[128539,\n",
       " 56,\n",
       " 23625,\n",
       " 0,\n",
       " 2625,\n",
       " 1045,\n",
       " 2616,\n",
       " 618,\n",
       " 2618,\n",
       " 1620,\n",
       " 2619,\n",
       " 1202,\n",
       " 2618,\n",
       " 427,\n",
       " 2625,\n",
       " 658,\n",
       " 118,\n",
       " 2,\n",
       " 1,\n",
       " 2,\n",
       " 2,\n",
       " 2,\n",
       " 2,\n",
       " 1]"
      ]
     },
     "execution_count": 60,
     "metadata": {},
     "output_type": "execute_result"
    }
   ],
   "source": [
    "[ff.header['NAXIS2'] for ff in ifi[1:]]"
   ]
  },
  {
   "cell_type": "code",
   "execution_count": 11,
   "metadata": {
    "collapsed": false
   },
   "outputs": [
    {
     "name": "stdout",
     "output_type": "stream",
     "text": [
      "XTENSION= 'BINTABLE'           / binary table extension                         BITPIX  =                    8 / 8-bit bytes                                    NAXIS   =                    2 / 2-dimensional binary table                     NAXIS1  =                   34 / width of table in bytes                        NAXIS2  =               128539 / number of rows in table                        PCOUNT  =                    0 / size of special data area                      GCOUNT  =                    1 / one data group (required keyword)              TFIELDS =                   12 / number of fields in each row                   TTYPE1  = 'TIME    '           / time of the center of the frame                TFORM1  = 'D       '           / data format of field: 8-byte DOUBLE            TUNIT1  = 's       '           / physical unit of field                         TTYPE2  = 'RAWX    '           / X in node coordinates                          TFORM2  = 'I       '           / data fo\n"
     ]
    }
   ],
   "source": [
    "print(str(ifi[1].header)[:1000])"
   ]
  },
  {
   "cell_type": "code",
   "execution_count": 61,
   "metadata": {
    "collapsed": false,
    "scrolled": true
   },
   "outputs": [
    {
     "data": {
      "text/plain": [
       "[128539,\n",
       " 56,\n",
       " 23625,\n",
       " 0,\n",
       " 2625,\n",
       " 1045,\n",
       " 2616,\n",
       " 618,\n",
       " 2618,\n",
       " 1620,\n",
       " 2619,\n",
       " 1202,\n",
       " 2618,\n",
       " 427,\n",
       " 2625,\n",
       " 658,\n",
       " 118,\n",
       " 2,\n",
       " 1,\n",
       " 2,\n",
       " 2,\n",
       " 2,\n",
       " 2,\n",
       " 1]"
      ]
     },
     "execution_count": 61,
     "metadata": {},
     "output_type": "execute_result"
    }
   ],
   "source": [
    "[ff.header['NAXIS2'] for ff in ifi[1:]]"
   ]
  },
  {
   "cell_type": "code",
   "execution_count": 65,
   "metadata": {
    "collapsed": false
   },
   "outputs": [
    {
     "data": {
      "text/plain": [
       "['XTENSION',\n",
       " 'BITPIX',\n",
       " 'NAXIS',\n",
       " 'NAXIS1',\n",
       " 'NAXIS2',\n",
       " 'PCOUNT',\n",
       " 'GCOUNT',\n",
       " 'TFIELDS',\n",
       " 'TTYPE1',\n",
       " 'TFORM1',\n",
       " 'TUNIT1',\n",
       " 'TTYPE2',\n",
       " 'TFORM2',\n",
       " 'TUNIT2',\n",
       " 'TTYPE3',\n",
       " 'TFORM3',\n",
       " 'TUNIT3',\n",
       " 'TTYPE4',\n",
       " 'TFORM4',\n",
       " 'TUNIT4',\n",
       " 'TTYPE5',\n",
       " 'TFORM5',\n",
       " 'TUNIT5',\n",
       " 'TTYPE6',\n",
       " 'TFORM6',\n",
       " 'TUNIT6',\n",
       " 'TTYPE7',\n",
       " 'TFORM7',\n",
       " 'TUNIT7',\n",
       " 'TTYPE8',\n",
       " 'TFORM8',\n",
       " 'TUNIT8',\n",
       " 'TTYPE9',\n",
       " 'TFORM9',\n",
       " 'TUNIT9',\n",
       " 'TTYPE10',\n",
       " 'TFORM10',\n",
       " 'TTYPE11',\n",
       " 'TFORM11',\n",
       " 'TTYPE12',\n",
       " 'TFORM12',\n",
       " 'EXTNAME',\n",
       " 'TSTART',\n",
       " 'TSTOP',\n",
       " 'DET_SYST',\n",
       " 'TIMEUNIT',\n",
       " 'TIMESYS',\n",
       " 'MJDREF',\n",
       " 'TIMEREF',\n",
       " 'TASSIGN',\n",
       " 'TIMEZERO',\n",
       " 'CLOCKAPP',\n",
       " 'XMMEA_0',\n",
       " 'XMMEA_1',\n",
       " 'XMMEA_2',\n",
       " 'XMMEA_5',\n",
       " 'XMMEA_6',\n",
       " 'XMMEA_8',\n",
       " 'XMMEA_9',\n",
       " 'XMMEA_10',\n",
       " 'XMMEA_11',\n",
       " 'XMMEA_15',\n",
       " 'XMMEA_16',\n",
       " 'XMMEA_17',\n",
       " 'XMMEA_19',\n",
       " 'XMMEA_21',\n",
       " 'XMMEA_22',\n",
       " 'XMMEA_25',\n",
       " 'XMMEA_26',\n",
       " 'XMMEA_28',\n",
       " 'XMMEA_29',\n",
       " 'XMMEA_30',\n",
       " 'XMMEA_EM',\n",
       " 'XMMEA_SM',\n",
       " 'XMMEA_13',\n",
       " 'TELAPSE',\n",
       " 'LONGSTRN',\n",
       " 'DATAMODE',\n",
       " 'TELESCOP',\n",
       " 'INSTRUME',\n",
       " 'OBS_ID',\n",
       " 'EXP_ID',\n",
       " 'DATE-OBS',\n",
       " 'DATE-END',\n",
       " 'OBS_MODE',\n",
       " 'REVOLUT',\n",
       " 'OBJECT',\n",
       " 'OBSERVER',\n",
       " 'RA_OBJ',\n",
       " 'DEC_OBJ',\n",
       " 'RA_NOM',\n",
       " 'DEC_NOM',\n",
       " 'EXPIDSTR',\n",
       " 'FILTER',\n",
       " 'ATT_SRC',\n",
       " 'ORB_RCNS',\n",
       " 'TFIT_RPD',\n",
       " 'TFIT_DEG',\n",
       " 'TFIT_RMS',\n",
       " 'TFIT_PFR',\n",
       " 'TFIT_IGH',\n",
       " 'SUBMODE',\n",
       " 'EQUINOX',\n",
       " 'RADECSYS',\n",
       " 'REFXCTYP',\n",
       " 'REFXCRPX',\n",
       " 'REFXCRVL',\n",
       " 'REFXCDLT',\n",
       " 'REFXLMIN',\n",
       " 'REFXLMAX',\n",
       " 'REFXDMIN',\n",
       " 'REFXDMAX',\n",
       " 'REFXCUNI',\n",
       " 'REFYCTYP',\n",
       " 'REFYCRPX',\n",
       " 'REFYCRVL',\n",
       " 'REFYCDLT',\n",
       " 'REFYLMIN',\n",
       " 'REFYLMAX',\n",
       " 'REFYDMIN',\n",
       " 'REFYDMAX',\n",
       " 'REFYCUNI',\n",
       " 'AVRG_PNT',\n",
       " 'RA_PNT',\n",
       " 'DEC_PNT',\n",
       " 'PA_PNT',\n",
       " 'DSTYP1',\n",
       " 'DSTYP2',\n",
       " 'DSUNI2',\n",
       " 'DSVAL1',\n",
       " 'DSVAL2',\n",
       " 'DSREF2',\n",
       " '2DSVAL1',\n",
       " '2DSREF2',\n",
       " '3DSVAL1',\n",
       " '3DSREF2',\n",
       " '4DSVAL1',\n",
       " '4DSREF2',\n",
       " '5DSVAL1',\n",
       " '5DSREF2',\n",
       " '6DSVAL1',\n",
       " '6DSREF2',\n",
       " '7DSVAL1',\n",
       " '7DSREF2',\n",
       " 'SLCTEXPR',\n",
       " 'ONTIME01',\n",
       " 'ONTIME02',\n",
       " 'ONTIME03',\n",
       " 'ONTIME04',\n",
       " 'ONTIME05',\n",
       " 'ONTIME06',\n",
       " 'ONTIME07',\n",
       " 'ONTIME',\n",
       " 'LIVETI01',\n",
       " 'LIVETI02',\n",
       " 'LIVETI03',\n",
       " 'LIVETI04',\n",
       " 'LIVETI05',\n",
       " 'LIVETI06',\n",
       " 'LIVETI07',\n",
       " 'LIVETIME',\n",
       " 'TLMIN2',\n",
       " 'TDMIN2',\n",
       " 'TLMAX2',\n",
       " 'TDMAX2',\n",
       " 'TLMIN3',\n",
       " 'TDMIN3',\n",
       " 'TLMAX3',\n",
       " 'TDMAX3',\n",
       " 'TLMIN4',\n",
       " 'TDMIN4',\n",
       " 'TLMAX4',\n",
       " 'TDMAX4',\n",
       " 'TCRPX4',\n",
       " 'TCTYP4',\n",
       " 'TCRVL4',\n",
       " 'TCDLT4',\n",
       " 'TCUNI4',\n",
       " 'TLMIN5',\n",
       " 'TDMIN5',\n",
       " 'TLMAX5',\n",
       " 'TDMAX5',\n",
       " 'TCRPX5',\n",
       " 'TCTYP5',\n",
       " 'TCRVL5',\n",
       " 'TCDLT5',\n",
       " 'TCUNI5',\n",
       " 'TNULL6',\n",
       " 'TLMIN6',\n",
       " 'TDMIN6',\n",
       " 'TLMAX6',\n",
       " 'TDMAX6',\n",
       " 'TCRPX6',\n",
       " 'TCTYP6',\n",
       " 'TCRVL6',\n",
       " 'TCDLT6',\n",
       " 'TCUNI6',\n",
       " 'TNULL7',\n",
       " 'TLMIN7',\n",
       " 'TDMIN7',\n",
       " 'TLMAX7',\n",
       " 'TDMAX7',\n",
       " 'TCRPX7',\n",
       " 'TCTYP7',\n",
       " 'TCRVL7',\n",
       " 'TCDLT7',\n",
       " 'TCUNI7',\n",
       " 'TLMIN8',\n",
       " 'TDMIN8',\n",
       " 'TLMAX8',\n",
       " 'TDMAX8',\n",
       " 'TLMIN9',\n",
       " 'TDMIN9',\n",
       " 'TLMAX9',\n",
       " 'TDMAX9',\n",
       " 'TLMIN11',\n",
       " 'TLMAX11',\n",
       " 'TLMIN12',\n",
       " 'TLMAX12']"
      ]
     },
     "execution_count": 65,
     "metadata": {},
     "output_type": "execute_result"
    }
   ],
   "source": [
    "[a for a in ifi[1].header.keys()]"
   ]
  },
  {
   "cell_type": "markdown",
   "metadata": {},
   "source": [
    "hledani klicu v headeru \n",
    "`(ftlist xx.fits K include=\"*START\")`"
   ]
  },
  {
   "cell_type": "code",
   "execution_count": 36,
   "metadata": {
    "collapsed": false
   },
   "outputs": [
    {
     "data": {
      "text/plain": [
       "FITS_rec([(126963387.12580328, 126970474.74036428)], \n",
       "      dtype=[('START', '>f8'), ('STOP', '>f8')])"
      ]
     },
     "execution_count": 36,
     "metadata": {},
     "output_type": "execute_result"
    }
   ],
   "source": [
    "ifi[-1].data"
   ]
  },
  {
   "cell_type": "code",
   "execution_count": 66,
   "metadata": {
    "collapsed": false
   },
   "outputs": [
    {
     "data": {
      "text/plain": [
       "[24949, 78540, 33519, 128539, 24807, 21731, 34212]"
      ]
     },
     "execution_count": 66,
     "metadata": {},
     "output_type": "execute_result"
    }
   ],
   "source": [
    "[pyfits.open(s)[1].header['NAXIS2'] for s in selevts]"
   ]
  },
  {
   "cell_type": "code",
   "execution_count": 67,
   "metadata": {
    "collapsed": false
   },
   "outputs": [
    {
     "data": {
      "text/plain": [
       "[(8735.288197010756, 17648.218604013324),\n",
       " (1.399948999285698, 4317.539826005697),\n",
       " (-2816.335063993931, -870.5150090008974),\n",
       " (0.0, 7095.984313011169),\n",
       " (8481.605840012431, 17646.7603880018),\n",
       " (6859.469411000609, 8028.598056003451),\n",
       " (-2822.2287329882383, -867.3918569982052)]"
      ]
     },
     "execution_count": 67,
     "metadata": {},
     "output_type": "execute_result"
    }
   ],
   "source": [
    "hdrs=[pyfits.open(s)[1].header for s in selevts]\n",
    "t0=ifi[1].header['TSTART']\n",
    "[(h['TSTART']-t0,h['TSTOP']-t0) for h in hdrs]"
   ]
  },
  {
   "cell_type": "markdown",
   "metadata": {},
   "source": [
    "nejaka grafika\n",
    "-------------\n",
    "\n",
    "generovani histogramu z *evtlistu*"
   ]
  },
  {
   "cell_type": "code",
   "execution_count": 15,
   "metadata": {
    "collapsed": false
   },
   "outputs": [],
   "source": [
    "%matplotlib inline\n",
    "from matplotlib import pyplot as pl\n",
    "times=ifi[1].data['TIME']\n",
    "t0=times.min()"
   ]
  },
  {
   "cell_type": "code",
   "execution_count": 17,
   "metadata": {
    "collapsed": false
   },
   "outputs": [
    {
     "data": {
      "image/png": "[encoded data removed]",
      "text/plain": [
       "<matplotlib.figure.Figure at 0x7fa74d3a3290>"
      ]
     },
     "metadata": {},
     "output_type": "display_data"
    }
   ],
   "source": [
    "rep=pl.hist(times-t0,50)"
   ]
  },
  {
   "cell_type": "code",
   "execution_count": 18,
   "metadata": {
    "collapsed": false
   },
   "outputs": [
    {
     "ename": "NameError",
     "evalue": "name 'plot' is not defined",
     "output_type": "error",
     "traceback": [
      "\u001b[1;31m---------------------------------------------------------------------------\u001b[0m",
      "\u001b[1;31mNameError\u001b[0m                                 Traceback (most recent call last)",
      "\u001b[1;32m<ipython-input-18-96c02bb0eeb5>\u001b[0m in \u001b[0;36m<module>\u001b[1;34m()\u001b[0m\n\u001b[1;32m----> 1\u001b[1;33m \u001b[0mplot\u001b[0m\u001b[1;33m(\u001b[0m\u001b[0mrep\u001b[0m\u001b[1;33m[\u001b[0m\u001b[1;36m1\u001b[0m\u001b[1;33m]\u001b[0m\u001b[1;33m,\u001b[0m\u001b[0mrep\u001b[0m\u001b[1;33m[\u001b[0m\u001b[1;36m0\u001b[0m\u001b[1;33m]\u001b[0m\u001b[1;33m)\u001b[0m\u001b[1;33m\u001b[0m\u001b[0m\n\u001b[0m",
      "\u001b[1;31mNameError\u001b[0m: name 'plot' is not defined"
     ]
    }
   ],
   "source": [
    "plot(rep[1],rep[0])"
   ]
  },
  {
   "cell_type": "code",
   "execution_count": 19,
   "metadata": {
    "collapsed": false
   },
   "outputs": [
    {
     "data": {
      "text/plain": [
       "[<matplotlib.lines.Line2D at 0x7fa74d2a1dd0>]"
      ]
     },
     "execution_count": 19,
     "metadata": {},
     "output_type": "execute_result"
    },
    {
     "data": {
      "image/png": "[encoded data removed]",
      "text/plain": [
       "<matplotlib.figure.Figure at 0x7fa74d48d790>"
      ]
     },
     "metadata": {},
     "output_type": "display_data"
    }
   ],
   "source": [
    "#stredy binu v minutach\n",
    "x=(rep[1][:-1]+rep[1][1:])/60.\n",
    "pl.plot(x,rep[0],'+')"
   ]
  },
  {
   "cell_type": "code",
   "execution_count": 23,
   "metadata": {
    "collapsed": false
   },
   "outputs": [
    {
     "data": {
      "text/plain": [
       "[0, 1, 1, 1, 1, 0, 1, 1, 1, 1, 1, 1, 3, 1, 1, 2, 1, 1, 1, 1, 1, 1, 2, 1, 1]"
      ]
     },
     "execution_count": 23,
     "metadata": {},
     "output_type": "execute_result"
    }
   ],
   "source": [
    "# zpet k PN datum\n",
    "[len(p) for p in pnevts]"
   ]
  },
  {
   "cell_type": "code",
   "execution_count": 40,
   "metadata": {
    "collapsed": false
   },
   "outputs": [],
   "source": [
    "hdrs2=[pyfits.open(p[0])[1].header for p in pnevts if len(p)>0 and p[0].find(\"Imaging\")>0]\n"
   ]
  },
  {
   "cell_type": "code",
   "execution_count": 41,
   "metadata": {
    "collapsed": false
   },
   "outputs": [
    {
     "data": {
      "text/plain": [
       "[(-23.817905820509143, 0.057877283831023495),\n",
       " (-18.453615951585515, 0.057883060208211344),\n",
       " (544.9610400913313, 0.0938931048723559),\n",
       " (179.12187233120392, 0.057874701238340855),\n",
       " (361.2459105708914, 0.057874593229067586),\n",
       " (342.45481065559045, 0.057877259641126846),\n",
       " (524.5675215297802, 0.06380030116894178),\n",
       " (704.3291437098613, 0.09805628813630729),\n",
       " (-575.1518413528495, 0.03926558542599965),\n",
       " (-574.9016950177939, 0.2615795013693125),\n",
       " (-574.4814763881919, 0.7618093558425011),\n",
       " (-573.0809252343796, 0.054401620503480554),\n",
       " (-571.9914138502903, 0.08535913125335891),\n",
       " (-572.9270320209109, 0.3437570096216065),\n",
       " (-572.4869140223947, 0.34722166933567705),\n",
       " (-570.4923279573101, 0.7017596333958553),\n",
       " (-210.16871155023145, 1.0256993237731076),\n",
       " (361.11628433724536, 0.09851684635436087),\n",
       " (903.3320270485995, 0.20903136476874304),\n",
       " (1278.0985631245949, 0.32027120765057177),\n",
       " (544.257337101933, 0.6725909406019167),\n",
       " (1992.7353301383216, 0.37119875209475)]"
      ]
     },
     "execution_count": 41,
     "metadata": {},
     "output_type": "execute_result"
    }
   ],
   "source": [
    "[((h['TSTART']-t0)/(24*3600),h['TELAPSE']/(24*3600)) for h in hdrs2]"
   ]
  },
  {
   "cell_type": "code",
   "execution_count": 43,
   "metadata": {
    "collapsed": false
   },
   "outputs": [
    {
     "data": {
      "text/plain": [
       "[332600,\n",
       " 311357,\n",
       " 507579,\n",
       " 246778,\n",
       " 303082,\n",
       " 360172,\n",
       " 399090,\n",
       " 415399,\n",
       " 360421,\n",
       " 3045884,\n",
       " 2827192,\n",
       " 309879,\n",
       " 1619592,\n",
       " 1174279,\n",
       " 1165075,\n",
       " 2468434,\n",
       " 4744569,\n",
       " 482777,\n",
       " 697232,\n",
       " 1215307,\n",
       " 3720726,\n",
       " 1291866]"
      ]
     },
     "execution_count": 43,
     "metadata": {},
     "output_type": "execute_result"
    }
   ],
   "source": [
    "[h['NAXIS2'] for h in hdrs2]"
   ]
  },
  {
   "cell_type": "code",
   "execution_count": 47,
   "metadata": {
    "collapsed": false
   },
   "outputs": [
    {
     "data": {
      "text/plain": [
       "(127848, 66044, 65389)"
      ]
     },
     "execution_count": 47,
     "metadata": {},
     "output_type": "execute_result"
    }
   ],
   "source": [
    "data=ifi[1].data\n",
    "sel1=(data['PATTERN']<12)\n",
    "sel2=(data['PI']>1000)*(data['PI']<12000)\n",
    "sum(sel1),sum(sel2),sum(sel1*sel2)"
   ]
  }
 ],
 "metadata": {
  "kernelspec": {
   "display_name": "Python 3",
   "language": "python",
   "name": "python3"
  },
  "language_info": {
   "codemirror_mode": {
    "name": "ipython",
    "version": 3
   },
   "file_extension": ".py",
   "mimetype": "text/x-python",
   "name": "python",
   "nbconvert_exporter": "python",
   "pygments_lexer": "ipython3",
   "version": "3.3.2"
  }
 },
 "nbformat": 4,
 "nbformat_minor": 0
}
